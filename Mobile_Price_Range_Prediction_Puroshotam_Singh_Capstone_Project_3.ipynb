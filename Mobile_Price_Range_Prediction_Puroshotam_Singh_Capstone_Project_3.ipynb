{
  "nbformat": 4,
  "nbformat_minor": 0,
  "metadata": {
    "colab": {
      "name": "Mobile_Price_Range_Prediction_Puroshotam_Singh_Capstone_Project_3.ipynb",
      "provenance": [],
      "mount_file_id": "1i0MPvYDV0nFSCsp3qp6yZwnVY76YxTAm",
      "authorship_tag": "ABX9TyOsKHtO47JwtwlQ3MRMcS8H",
      "include_colab_link": true
    },
    "kernelspec": {
      "name": "python3",
      "display_name": "Python 3"
    },
    "language_info": {
      "name": "python"
    }
  },
  "cells": [
    {
      "cell_type": "markdown",
      "metadata": {
        "id": "view-in-github",
        "colab_type": "text"
      },
      "source": [
        "<a href=\"https://colab.research.google.com/github/PuroshotamSingh/Mobile-Price-Range-Prediction/blob/main/Mobile_Price_Range_Prediction_Puroshotam_Singh_Capstone_Project_3.ipynb\" target=\"_parent\"><img src=\"https://colab.research.google.com/assets/colab-badge.svg\" alt=\"Open In Colab\"/></a>"
      ]
    },
    {
      "cell_type": "markdown",
      "metadata": {
        "id": "gTSy684sQAgu"
      },
      "source": [
        "###**In the competitive mobile phone market companies want to understand sales data of mobile phones and factors which drive the prices. The objective is to find out some relation between features of a mobile phone and its selling price.**\n",
        "---\n",
        "###**Dataset Information**\n",
        "* Number of instances: 2000\n",
        "* Number of attributes: 21\n",
        "---\n",
        "###**Features information:**\n",
        "###The dataset contains features like:\n",
        "\n",
        "1. **Battery_power** - Total energy a battery can store in one time measured in mAh\n",
        "\n",
        "2. **Blue** - Has bluetooth or not\n",
        "\n",
        "3. **Clock_speed** - speed at which microprocessor executes instructions\n",
        "\n",
        "4. **Dual_sim** - Has dual sim support or not\n",
        "\n",
        "5. **Fc** - Front Camera mega pixels\n",
        "\n",
        "6. **Four_g** - Has 4G or not\n",
        "\n",
        "7. **Int_memory** - Internal Memory in Gigabytes\n",
        "\n",
        "8. **M_dep** - Mobile Depth in cm\n",
        "\n",
        "9. **Mobile_wt** - Weight of mobile phone\n",
        "\n",
        "10. **N_cores** - Number of cores of processor\n",
        "\n",
        "11. **Pc** - Primary Camera mega pixels\n",
        "\n",
        "12. **Px_height** - Pixel Resolution Height\n",
        "\n",
        "13. **Px_width** - Pixel Resolution Width\n",
        "\n",
        "14. **Ram** - Random Access Memory in Mega Bytes\n",
        "\n",
        "15. **Sc_h** - Screen Height of mobile in cm\n",
        "\n",
        "16. **Sc_w** - Screen Width of mobile in cm\n",
        "\n",
        "17. **Talk_time** - longest time that a single battery charge will last when you are on call\n",
        "\n",
        "18. **Three_g** - Has 3G or not\n",
        "\n",
        "19. **Touch_screen** - Has touch screen or not\n",
        "\n",
        "20. **Wifi** - Has wifi or not\n",
        "---\n",
        "###**Target Variable :**\n",
        "* **'Price_range'**: This is the target variable with value of 0(low cost), 1(medium cost),\n",
        "2(high cost) and 3(very high cost).\n",
        "---\n",
        "###**Goal: The main objective is to build a predictive model, which could help in predicting the price range of mobile phones.**"
      ]
    },
    {
      "cell_type": "markdown",
      "metadata": {
        "id": "DHEImBPd15DN"
      },
      "source": [
        "# **Importing libraries**"
      ]
    },
    {
      "cell_type": "code",
      "metadata": {
        "id": "7PDyzQmXxROT"
      },
      "source": [
        "# Importing libraries\n",
        "\n",
        "import numpy as np\n",
        "import pandas as pd\n",
        "%matplotlib inline\n",
        "import matplotlib.pyplot as plt\n",
        "import seaborn as sns\n",
        "\n",
        "# To supress the warnings\n",
        "\n",
        "import warnings\n",
        "warnings.filterwarnings('ignore')"
      ],
      "execution_count": 85,
      "outputs": []
    },
    {
      "cell_type": "markdown",
      "metadata": {
        "id": "L-e1Z77B1pII"
      },
      "source": [
        "# **Dataset initialization**"
      ]
    },
    {
      "cell_type": "code",
      "metadata": {
        "id": "eyVNcBkL1oGA"
      },
      "source": [
        "# Loading dataset and creating dataframe\n",
        "\n",
        "df = pd.read_csv('/content/drive/MyDrive/Copy of data_mobile_price_range.csv')"
      ],
      "execution_count": 86,
      "outputs": []
    },
    {
      "cell_type": "code",
      "metadata": {
        "colab": {
          "base_uri": "https://localhost:8080/",
          "height": 377
        },
        "id": "olsZjTZS2ZmI",
        "outputId": "42e79629-4cc4-4cdf-fad6-d658b47409d6"
      },
      "source": [
        "# Printing first 10 rows of our dataset\n",
        "\n",
        "df.head(10)"
      ],
      "execution_count": 87,
      "outputs": [
        {
          "output_type": "execute_result",
          "data": {
            "text/html": [
              "<div>\n",
              "<style scoped>\n",
              "    .dataframe tbody tr th:only-of-type {\n",
              "        vertical-align: middle;\n",
              "    }\n",
              "\n",
              "    .dataframe tbody tr th {\n",
              "        vertical-align: top;\n",
              "    }\n",
              "\n",
              "    .dataframe thead th {\n",
              "        text-align: right;\n",
              "    }\n",
              "</style>\n",
              "<table border=\"1\" class=\"dataframe\">\n",
              "  <thead>\n",
              "    <tr style=\"text-align: right;\">\n",
              "      <th></th>\n",
              "      <th>battery_power</th>\n",
              "      <th>blue</th>\n",
              "      <th>clock_speed</th>\n",
              "      <th>dual_sim</th>\n",
              "      <th>fc</th>\n",
              "      <th>four_g</th>\n",
              "      <th>int_memory</th>\n",
              "      <th>m_dep</th>\n",
              "      <th>mobile_wt</th>\n",
              "      <th>n_cores</th>\n",
              "      <th>pc</th>\n",
              "      <th>px_height</th>\n",
              "      <th>px_width</th>\n",
              "      <th>ram</th>\n",
              "      <th>sc_h</th>\n",
              "      <th>sc_w</th>\n",
              "      <th>talk_time</th>\n",
              "      <th>three_g</th>\n",
              "      <th>touch_screen</th>\n",
              "      <th>wifi</th>\n",
              "      <th>price_range</th>\n",
              "    </tr>\n",
              "  </thead>\n",
              "  <tbody>\n",
              "    <tr>\n",
              "      <th>0</th>\n",
              "      <td>842</td>\n",
              "      <td>0</td>\n",
              "      <td>2.2</td>\n",
              "      <td>0</td>\n",
              "      <td>1</td>\n",
              "      <td>0</td>\n",
              "      <td>7</td>\n",
              "      <td>0.6</td>\n",
              "      <td>188</td>\n",
              "      <td>2</td>\n",
              "      <td>2</td>\n",
              "      <td>20</td>\n",
              "      <td>756</td>\n",
              "      <td>2549</td>\n",
              "      <td>9</td>\n",
              "      <td>7</td>\n",
              "      <td>19</td>\n",
              "      <td>0</td>\n",
              "      <td>0</td>\n",
              "      <td>1</td>\n",
              "      <td>1</td>\n",
              "    </tr>\n",
              "    <tr>\n",
              "      <th>1</th>\n",
              "      <td>1021</td>\n",
              "      <td>1</td>\n",
              "      <td>0.5</td>\n",
              "      <td>1</td>\n",
              "      <td>0</td>\n",
              "      <td>1</td>\n",
              "      <td>53</td>\n",
              "      <td>0.7</td>\n",
              "      <td>136</td>\n",
              "      <td>3</td>\n",
              "      <td>6</td>\n",
              "      <td>905</td>\n",
              "      <td>1988</td>\n",
              "      <td>2631</td>\n",
              "      <td>17</td>\n",
              "      <td>3</td>\n",
              "      <td>7</td>\n",
              "      <td>1</td>\n",
              "      <td>1</td>\n",
              "      <td>0</td>\n",
              "      <td>2</td>\n",
              "    </tr>\n",
              "    <tr>\n",
              "      <th>2</th>\n",
              "      <td>563</td>\n",
              "      <td>1</td>\n",
              "      <td>0.5</td>\n",
              "      <td>1</td>\n",
              "      <td>2</td>\n",
              "      <td>1</td>\n",
              "      <td>41</td>\n",
              "      <td>0.9</td>\n",
              "      <td>145</td>\n",
              "      <td>5</td>\n",
              "      <td>6</td>\n",
              "      <td>1263</td>\n",
              "      <td>1716</td>\n",
              "      <td>2603</td>\n",
              "      <td>11</td>\n",
              "      <td>2</td>\n",
              "      <td>9</td>\n",
              "      <td>1</td>\n",
              "      <td>1</td>\n",
              "      <td>0</td>\n",
              "      <td>2</td>\n",
              "    </tr>\n",
              "    <tr>\n",
              "      <th>3</th>\n",
              "      <td>615</td>\n",
              "      <td>1</td>\n",
              "      <td>2.5</td>\n",
              "      <td>0</td>\n",
              "      <td>0</td>\n",
              "      <td>0</td>\n",
              "      <td>10</td>\n",
              "      <td>0.8</td>\n",
              "      <td>131</td>\n",
              "      <td>6</td>\n",
              "      <td>9</td>\n",
              "      <td>1216</td>\n",
              "      <td>1786</td>\n",
              "      <td>2769</td>\n",
              "      <td>16</td>\n",
              "      <td>8</td>\n",
              "      <td>11</td>\n",
              "      <td>1</td>\n",
              "      <td>0</td>\n",
              "      <td>0</td>\n",
              "      <td>2</td>\n",
              "    </tr>\n",
              "    <tr>\n",
              "      <th>4</th>\n",
              "      <td>1821</td>\n",
              "      <td>1</td>\n",
              "      <td>1.2</td>\n",
              "      <td>0</td>\n",
              "      <td>13</td>\n",
              "      <td>1</td>\n",
              "      <td>44</td>\n",
              "      <td>0.6</td>\n",
              "      <td>141</td>\n",
              "      <td>2</td>\n",
              "      <td>14</td>\n",
              "      <td>1208</td>\n",
              "      <td>1212</td>\n",
              "      <td>1411</td>\n",
              "      <td>8</td>\n",
              "      <td>2</td>\n",
              "      <td>15</td>\n",
              "      <td>1</td>\n",
              "      <td>1</td>\n",
              "      <td>0</td>\n",
              "      <td>1</td>\n",
              "    </tr>\n",
              "    <tr>\n",
              "      <th>5</th>\n",
              "      <td>1859</td>\n",
              "      <td>0</td>\n",
              "      <td>0.5</td>\n",
              "      <td>1</td>\n",
              "      <td>3</td>\n",
              "      <td>0</td>\n",
              "      <td>22</td>\n",
              "      <td>0.7</td>\n",
              "      <td>164</td>\n",
              "      <td>1</td>\n",
              "      <td>7</td>\n",
              "      <td>1004</td>\n",
              "      <td>1654</td>\n",
              "      <td>1067</td>\n",
              "      <td>17</td>\n",
              "      <td>1</td>\n",
              "      <td>10</td>\n",
              "      <td>1</td>\n",
              "      <td>0</td>\n",
              "      <td>0</td>\n",
              "      <td>1</td>\n",
              "    </tr>\n",
              "    <tr>\n",
              "      <th>6</th>\n",
              "      <td>1821</td>\n",
              "      <td>0</td>\n",
              "      <td>1.7</td>\n",
              "      <td>0</td>\n",
              "      <td>4</td>\n",
              "      <td>1</td>\n",
              "      <td>10</td>\n",
              "      <td>0.8</td>\n",
              "      <td>139</td>\n",
              "      <td>8</td>\n",
              "      <td>10</td>\n",
              "      <td>381</td>\n",
              "      <td>1018</td>\n",
              "      <td>3220</td>\n",
              "      <td>13</td>\n",
              "      <td>8</td>\n",
              "      <td>18</td>\n",
              "      <td>1</td>\n",
              "      <td>0</td>\n",
              "      <td>1</td>\n",
              "      <td>3</td>\n",
              "    </tr>\n",
              "    <tr>\n",
              "      <th>7</th>\n",
              "      <td>1954</td>\n",
              "      <td>0</td>\n",
              "      <td>0.5</td>\n",
              "      <td>1</td>\n",
              "      <td>0</td>\n",
              "      <td>0</td>\n",
              "      <td>24</td>\n",
              "      <td>0.8</td>\n",
              "      <td>187</td>\n",
              "      <td>4</td>\n",
              "      <td>0</td>\n",
              "      <td>512</td>\n",
              "      <td>1149</td>\n",
              "      <td>700</td>\n",
              "      <td>16</td>\n",
              "      <td>3</td>\n",
              "      <td>5</td>\n",
              "      <td>1</td>\n",
              "      <td>1</td>\n",
              "      <td>1</td>\n",
              "      <td>0</td>\n",
              "    </tr>\n",
              "    <tr>\n",
              "      <th>8</th>\n",
              "      <td>1445</td>\n",
              "      <td>1</td>\n",
              "      <td>0.5</td>\n",
              "      <td>0</td>\n",
              "      <td>0</td>\n",
              "      <td>0</td>\n",
              "      <td>53</td>\n",
              "      <td>0.7</td>\n",
              "      <td>174</td>\n",
              "      <td>7</td>\n",
              "      <td>14</td>\n",
              "      <td>386</td>\n",
              "      <td>836</td>\n",
              "      <td>1099</td>\n",
              "      <td>17</td>\n",
              "      <td>1</td>\n",
              "      <td>20</td>\n",
              "      <td>1</td>\n",
              "      <td>0</td>\n",
              "      <td>0</td>\n",
              "      <td>0</td>\n",
              "    </tr>\n",
              "    <tr>\n",
              "      <th>9</th>\n",
              "      <td>509</td>\n",
              "      <td>1</td>\n",
              "      <td>0.6</td>\n",
              "      <td>1</td>\n",
              "      <td>2</td>\n",
              "      <td>1</td>\n",
              "      <td>9</td>\n",
              "      <td>0.1</td>\n",
              "      <td>93</td>\n",
              "      <td>5</td>\n",
              "      <td>15</td>\n",
              "      <td>1137</td>\n",
              "      <td>1224</td>\n",
              "      <td>513</td>\n",
              "      <td>19</td>\n",
              "      <td>10</td>\n",
              "      <td>12</td>\n",
              "      <td>1</td>\n",
              "      <td>0</td>\n",
              "      <td>0</td>\n",
              "      <td>0</td>\n",
              "    </tr>\n",
              "  </tbody>\n",
              "</table>\n",
              "</div>"
            ],
            "text/plain": [
              "   battery_power  blue  clock_speed  ...  touch_screen  wifi  price_range\n",
              "0            842     0          2.2  ...             0     1            1\n",
              "1           1021     1          0.5  ...             1     0            2\n",
              "2            563     1          0.5  ...             1     0            2\n",
              "3            615     1          2.5  ...             0     0            2\n",
              "4           1821     1          1.2  ...             1     0            1\n",
              "5           1859     0          0.5  ...             0     0            1\n",
              "6           1821     0          1.7  ...             0     1            3\n",
              "7           1954     0          0.5  ...             1     1            0\n",
              "8           1445     1          0.5  ...             0     0            0\n",
              "9            509     1          0.6  ...             0     0            0\n",
              "\n",
              "[10 rows x 21 columns]"
            ]
          },
          "metadata": {},
          "execution_count": 87
        }
      ]
    },
    {
      "cell_type": "code",
      "metadata": {
        "colab": {
          "base_uri": "https://localhost:8080/"
        },
        "id": "dO5JW_h9VZ7S",
        "outputId": "13af65ae-a614-4d8e-a4d2-e37b3c1da67e"
      },
      "source": [
        "# Shape of dataset\n",
        "\n",
        "df.shape"
      ],
      "execution_count": 88,
      "outputs": [
        {
          "output_type": "execute_result",
          "data": {
            "text/plain": [
              "(2000, 21)"
            ]
          },
          "metadata": {},
          "execution_count": 88
        }
      ]
    },
    {
      "cell_type": "markdown",
      "metadata": {
        "id": "cmkMO6aVXS6J"
      },
      "source": [
        "* **Number of instances: 2000**\n",
        "* **Number of attributes: 21**"
      ]
    },
    {
      "cell_type": "code",
      "metadata": {
        "id": "4xtbBonqW4PD",
        "colab": {
          "base_uri": "https://localhost:8080/"
        },
        "outputId": "3260b201-ff44-4b4d-eecf-c264d7750f9c"
      },
      "source": [
        "# Let's see how many data types we have\n",
        "\n",
        "df.info()"
      ],
      "execution_count": 89,
      "outputs": [
        {
          "output_type": "stream",
          "name": "stdout",
          "text": [
            "<class 'pandas.core.frame.DataFrame'>\n",
            "RangeIndex: 2000 entries, 0 to 1999\n",
            "Data columns (total 21 columns):\n",
            " #   Column         Non-Null Count  Dtype  \n",
            "---  ------         --------------  -----  \n",
            " 0   battery_power  2000 non-null   int64  \n",
            " 1   blue           2000 non-null   int64  \n",
            " 2   clock_speed    2000 non-null   float64\n",
            " 3   dual_sim       2000 non-null   int64  \n",
            " 4   fc             2000 non-null   int64  \n",
            " 5   four_g         2000 non-null   int64  \n",
            " 6   int_memory     2000 non-null   int64  \n",
            " 7   m_dep          2000 non-null   float64\n",
            " 8   mobile_wt      2000 non-null   int64  \n",
            " 9   n_cores        2000 non-null   int64  \n",
            " 10  pc             2000 non-null   int64  \n",
            " 11  px_height      2000 non-null   int64  \n",
            " 12  px_width       2000 non-null   int64  \n",
            " 13  ram            2000 non-null   int64  \n",
            " 14  sc_h           2000 non-null   int64  \n",
            " 15  sc_w           2000 non-null   int64  \n",
            " 16  talk_time      2000 non-null   int64  \n",
            " 17  three_g        2000 non-null   int64  \n",
            " 18  touch_screen   2000 non-null   int64  \n",
            " 19  wifi           2000 non-null   int64  \n",
            " 20  price_range    2000 non-null   int64  \n",
            "dtypes: float64(2), int64(19)\n",
            "memory usage: 328.2 KB\n"
          ]
        }
      ]
    },
    {
      "cell_type": "markdown",
      "metadata": {
        "id": "QN2lXPCz8nfD"
      },
      "source": [
        "**There are only two data types, float and integers.**"
      ]
    },
    {
      "cell_type": "code",
      "metadata": {
        "colab": {
          "base_uri": "https://localhost:8080/",
          "height": 315
        },
        "id": "1RYs6zcO8g71",
        "outputId": "a282047f-60ff-466b-80c6-41adfcf79cd9"
      },
      "source": [
        "# Let's look at the statistical discription of all features\n",
        "\n",
        "df.describe()"
      ],
      "execution_count": 90,
      "outputs": [
        {
          "output_type": "execute_result",
          "data": {
            "text/html": [
              "<div>\n",
              "<style scoped>\n",
              "    .dataframe tbody tr th:only-of-type {\n",
              "        vertical-align: middle;\n",
              "    }\n",
              "\n",
              "    .dataframe tbody tr th {\n",
              "        vertical-align: top;\n",
              "    }\n",
              "\n",
              "    .dataframe thead th {\n",
              "        text-align: right;\n",
              "    }\n",
              "</style>\n",
              "<table border=\"1\" class=\"dataframe\">\n",
              "  <thead>\n",
              "    <tr style=\"text-align: right;\">\n",
              "      <th></th>\n",
              "      <th>battery_power</th>\n",
              "      <th>blue</th>\n",
              "      <th>clock_speed</th>\n",
              "      <th>dual_sim</th>\n",
              "      <th>fc</th>\n",
              "      <th>four_g</th>\n",
              "      <th>int_memory</th>\n",
              "      <th>m_dep</th>\n",
              "      <th>mobile_wt</th>\n",
              "      <th>n_cores</th>\n",
              "      <th>pc</th>\n",
              "      <th>px_height</th>\n",
              "      <th>px_width</th>\n",
              "      <th>ram</th>\n",
              "      <th>sc_h</th>\n",
              "      <th>sc_w</th>\n",
              "      <th>talk_time</th>\n",
              "      <th>three_g</th>\n",
              "      <th>touch_screen</th>\n",
              "      <th>wifi</th>\n",
              "      <th>price_range</th>\n",
              "    </tr>\n",
              "  </thead>\n",
              "  <tbody>\n",
              "    <tr>\n",
              "      <th>count</th>\n",
              "      <td>2000.000000</td>\n",
              "      <td>2000.0000</td>\n",
              "      <td>2000.000000</td>\n",
              "      <td>2000.000000</td>\n",
              "      <td>2000.000000</td>\n",
              "      <td>2000.000000</td>\n",
              "      <td>2000.000000</td>\n",
              "      <td>2000.000000</td>\n",
              "      <td>2000.000000</td>\n",
              "      <td>2000.000000</td>\n",
              "      <td>2000.000000</td>\n",
              "      <td>2000.000000</td>\n",
              "      <td>2000.000000</td>\n",
              "      <td>2000.000000</td>\n",
              "      <td>2000.000000</td>\n",
              "      <td>2000.000000</td>\n",
              "      <td>2000.000000</td>\n",
              "      <td>2000.000000</td>\n",
              "      <td>2000.000000</td>\n",
              "      <td>2000.000000</td>\n",
              "      <td>2000.000000</td>\n",
              "    </tr>\n",
              "    <tr>\n",
              "      <th>mean</th>\n",
              "      <td>1238.518500</td>\n",
              "      <td>0.4950</td>\n",
              "      <td>1.522250</td>\n",
              "      <td>0.509500</td>\n",
              "      <td>4.309500</td>\n",
              "      <td>0.521500</td>\n",
              "      <td>32.046500</td>\n",
              "      <td>0.501750</td>\n",
              "      <td>140.249000</td>\n",
              "      <td>4.520500</td>\n",
              "      <td>9.916500</td>\n",
              "      <td>645.108000</td>\n",
              "      <td>1251.515500</td>\n",
              "      <td>2124.213000</td>\n",
              "      <td>12.306500</td>\n",
              "      <td>5.767000</td>\n",
              "      <td>11.011000</td>\n",
              "      <td>0.761500</td>\n",
              "      <td>0.503000</td>\n",
              "      <td>0.507000</td>\n",
              "      <td>1.500000</td>\n",
              "    </tr>\n",
              "    <tr>\n",
              "      <th>std</th>\n",
              "      <td>439.418206</td>\n",
              "      <td>0.5001</td>\n",
              "      <td>0.816004</td>\n",
              "      <td>0.500035</td>\n",
              "      <td>4.341444</td>\n",
              "      <td>0.499662</td>\n",
              "      <td>18.145715</td>\n",
              "      <td>0.288416</td>\n",
              "      <td>35.399655</td>\n",
              "      <td>2.287837</td>\n",
              "      <td>6.064315</td>\n",
              "      <td>443.780811</td>\n",
              "      <td>432.199447</td>\n",
              "      <td>1084.732044</td>\n",
              "      <td>4.213245</td>\n",
              "      <td>4.356398</td>\n",
              "      <td>5.463955</td>\n",
              "      <td>0.426273</td>\n",
              "      <td>0.500116</td>\n",
              "      <td>0.500076</td>\n",
              "      <td>1.118314</td>\n",
              "    </tr>\n",
              "    <tr>\n",
              "      <th>min</th>\n",
              "      <td>501.000000</td>\n",
              "      <td>0.0000</td>\n",
              "      <td>0.500000</td>\n",
              "      <td>0.000000</td>\n",
              "      <td>0.000000</td>\n",
              "      <td>0.000000</td>\n",
              "      <td>2.000000</td>\n",
              "      <td>0.100000</td>\n",
              "      <td>80.000000</td>\n",
              "      <td>1.000000</td>\n",
              "      <td>0.000000</td>\n",
              "      <td>0.000000</td>\n",
              "      <td>500.000000</td>\n",
              "      <td>256.000000</td>\n",
              "      <td>5.000000</td>\n",
              "      <td>0.000000</td>\n",
              "      <td>2.000000</td>\n",
              "      <td>0.000000</td>\n",
              "      <td>0.000000</td>\n",
              "      <td>0.000000</td>\n",
              "      <td>0.000000</td>\n",
              "    </tr>\n",
              "    <tr>\n",
              "      <th>25%</th>\n",
              "      <td>851.750000</td>\n",
              "      <td>0.0000</td>\n",
              "      <td>0.700000</td>\n",
              "      <td>0.000000</td>\n",
              "      <td>1.000000</td>\n",
              "      <td>0.000000</td>\n",
              "      <td>16.000000</td>\n",
              "      <td>0.200000</td>\n",
              "      <td>109.000000</td>\n",
              "      <td>3.000000</td>\n",
              "      <td>5.000000</td>\n",
              "      <td>282.750000</td>\n",
              "      <td>874.750000</td>\n",
              "      <td>1207.500000</td>\n",
              "      <td>9.000000</td>\n",
              "      <td>2.000000</td>\n",
              "      <td>6.000000</td>\n",
              "      <td>1.000000</td>\n",
              "      <td>0.000000</td>\n",
              "      <td>0.000000</td>\n",
              "      <td>0.750000</td>\n",
              "    </tr>\n",
              "    <tr>\n",
              "      <th>50%</th>\n",
              "      <td>1226.000000</td>\n",
              "      <td>0.0000</td>\n",
              "      <td>1.500000</td>\n",
              "      <td>1.000000</td>\n",
              "      <td>3.000000</td>\n",
              "      <td>1.000000</td>\n",
              "      <td>32.000000</td>\n",
              "      <td>0.500000</td>\n",
              "      <td>141.000000</td>\n",
              "      <td>4.000000</td>\n",
              "      <td>10.000000</td>\n",
              "      <td>564.000000</td>\n",
              "      <td>1247.000000</td>\n",
              "      <td>2146.500000</td>\n",
              "      <td>12.000000</td>\n",
              "      <td>5.000000</td>\n",
              "      <td>11.000000</td>\n",
              "      <td>1.000000</td>\n",
              "      <td>1.000000</td>\n",
              "      <td>1.000000</td>\n",
              "      <td>1.500000</td>\n",
              "    </tr>\n",
              "    <tr>\n",
              "      <th>75%</th>\n",
              "      <td>1615.250000</td>\n",
              "      <td>1.0000</td>\n",
              "      <td>2.200000</td>\n",
              "      <td>1.000000</td>\n",
              "      <td>7.000000</td>\n",
              "      <td>1.000000</td>\n",
              "      <td>48.000000</td>\n",
              "      <td>0.800000</td>\n",
              "      <td>170.000000</td>\n",
              "      <td>7.000000</td>\n",
              "      <td>15.000000</td>\n",
              "      <td>947.250000</td>\n",
              "      <td>1633.000000</td>\n",
              "      <td>3064.500000</td>\n",
              "      <td>16.000000</td>\n",
              "      <td>9.000000</td>\n",
              "      <td>16.000000</td>\n",
              "      <td>1.000000</td>\n",
              "      <td>1.000000</td>\n",
              "      <td>1.000000</td>\n",
              "      <td>2.250000</td>\n",
              "    </tr>\n",
              "    <tr>\n",
              "      <th>max</th>\n",
              "      <td>1998.000000</td>\n",
              "      <td>1.0000</td>\n",
              "      <td>3.000000</td>\n",
              "      <td>1.000000</td>\n",
              "      <td>19.000000</td>\n",
              "      <td>1.000000</td>\n",
              "      <td>64.000000</td>\n",
              "      <td>1.000000</td>\n",
              "      <td>200.000000</td>\n",
              "      <td>8.000000</td>\n",
              "      <td>20.000000</td>\n",
              "      <td>1960.000000</td>\n",
              "      <td>1998.000000</td>\n",
              "      <td>3998.000000</td>\n",
              "      <td>19.000000</td>\n",
              "      <td>18.000000</td>\n",
              "      <td>20.000000</td>\n",
              "      <td>1.000000</td>\n",
              "      <td>1.000000</td>\n",
              "      <td>1.000000</td>\n",
              "      <td>3.000000</td>\n",
              "    </tr>\n",
              "  </tbody>\n",
              "</table>\n",
              "</div>"
            ],
            "text/plain": [
              "       battery_power       blue  ...         wifi  price_range\n",
              "count    2000.000000  2000.0000  ...  2000.000000  2000.000000\n",
              "mean     1238.518500     0.4950  ...     0.507000     1.500000\n",
              "std       439.418206     0.5001  ...     0.500076     1.118314\n",
              "min       501.000000     0.0000  ...     0.000000     0.000000\n",
              "25%       851.750000     0.0000  ...     0.000000     0.750000\n",
              "50%      1226.000000     0.0000  ...     1.000000     1.500000\n",
              "75%      1615.250000     1.0000  ...     1.000000     2.250000\n",
              "max      1998.000000     1.0000  ...     1.000000     3.000000\n",
              "\n",
              "[8 rows x 21 columns]"
            ]
          },
          "metadata": {},
          "execution_count": 90
        }
      ]
    },
    {
      "cell_type": "markdown",
      "metadata": {
        "id": "49Zi73KE9ZTJ"
      },
      "source": [
        "**The dataset contains:**\n",
        "* **Dichotomous type variables such as bluetooth, wifi, 3g, 4g, dual_sim and touch screen.** \n",
        "* **Nominal type variables such as n_cores and m_deep.**"
      ]
    },
    {
      "cell_type": "markdown",
      "metadata": {
        "id": "n6QWcFiH-yVk"
      },
      "source": [
        "# **EDA on features**"
      ]
    },
    {
      "cell_type": "markdown",
      "metadata": {
        "id": "RvVLzDbh_mzs"
      },
      "source": [
        "## **price_range**"
      ]
    },
    {
      "cell_type": "code",
      "metadata": {
        "colab": {
          "base_uri": "https://localhost:8080/"
        },
        "id": "iwGGomgX9CCX",
        "outputId": "e6c0cad6-4249-4269-e43a-03dfc87d06d9"
      },
      "source": [
        "# checking the unique categories of dependent variable\n",
        "\n",
        "df['price_range'].unique()"
      ],
      "execution_count": 91,
      "outputs": [
        {
          "output_type": "execute_result",
          "data": {
            "text/plain": [
              "array([1, 2, 3, 0])"
            ]
          },
          "metadata": {},
          "execution_count": 91
        }
      ]
    },
    {
      "cell_type": "markdown",
      "metadata": {
        "id": "6enFyFoABpF1"
      },
      "source": [
        "* **0** is for low price\n",
        "\n",
        "* **1** is for medium price \n",
        "\n",
        "* **2** is for high price and\n",
        "\n",
        "* **3** is for very high price"
      ]
    },
    {
      "cell_type": "code",
      "metadata": {
        "colab": {
          "base_uri": "https://localhost:8080/"
        },
        "id": "4zCApDwGA5yx",
        "outputId": "e91ef6af-4fee-49ff-d386-2851f564dad6"
      },
      "source": [
        "# Value counts of each of categories of price_range.\n",
        "\n",
        "df['price_range'].value_counts()"
      ],
      "execution_count": 92,
      "outputs": [
        {
          "output_type": "execute_result",
          "data": {
            "text/plain": [
              "3    500\n",
              "2    500\n",
              "1    500\n",
              "0    500\n",
              "Name: price_range, dtype: int64"
            ]
          },
          "metadata": {},
          "execution_count": 92
        }
      ]
    },
    {
      "cell_type": "code",
      "metadata": {
        "colab": {
          "base_uri": "https://localhost:8080/",
          "height": 368
        },
        "id": "e8Zn317qE8yR",
        "outputId": "dd930e1b-f559-4d43-d0d8-13532ffdc9df"
      },
      "source": [
        "# Histplot to show the count of all categories\n",
        "\n",
        "plt.figure(figsize=(10,5))\n",
        "xtick=[0,1,2,3]\n",
        "sns.histplot(data=df['price_range'])\n",
        "plt.xticks(xtick)\n",
        "plt.title('Count of price range')"
      ],
      "execution_count": 93,
      "outputs": [
        {
          "output_type": "execute_result",
          "data": {
            "text/plain": [
              "Text(0.5, 1.0, 'Count of price range')"
            ]
          },
          "metadata": {},
          "execution_count": 93
        },
        {
          "output_type": "display_data",
          "data": {
            "image/png": "[encoded data removed]",
            "text/plain": [
              "<Figure size 720x360 with 1 Axes>"
            ]
          },
          "metadata": {
            "needs_background": "light"
          }
        }
      ]
    },
    {
      "cell_type": "markdown",
      "metadata": {
        "id": "A-dM5soyHrSz"
      },
      "source": [
        "**There are equal no. of observations for each price range.**"
      ]
    },
    {
      "cell_type": "markdown",
      "metadata": {
        "id": "dsNQjgrNIeMk"
      },
      "source": [
        "## **n_cores**"
      ]
    },
    {
      "cell_type": "code",
      "metadata": {
        "colab": {
          "base_uri": "https://localhost:8080/"
        },
        "id": "DMWTHds4Fmfp",
        "outputId": "7fbc7709-10ba-43bd-e905-c094f9177d96"
      },
      "source": [
        "# Checking unique categories\n",
        "\n",
        "sorted(list(df['n_cores'].unique()))"
      ],
      "execution_count": 94,
      "outputs": [
        {
          "output_type": "execute_result",
          "data": {
            "text/plain": [
              "[1, 2, 3, 4, 5, 6, 7, 8]"
            ]
          },
          "metadata": {},
          "execution_count": 94
        }
      ]
    },
    {
      "cell_type": "code",
      "metadata": {
        "colab": {
          "base_uri": "https://localhost:8080/"
        },
        "id": "25wCmOzfMcYE",
        "outputId": "5a626ccd-9454-412a-ccb6-c267fd6fba3d"
      },
      "source": [
        "# Value counts of each of categories.\n",
        "\n",
        "df['n_cores'].value_counts()"
      ],
      "execution_count": 95,
      "outputs": [
        {
          "output_type": "execute_result",
          "data": {
            "text/plain": [
              "4    274\n",
              "7    259\n",
              "8    256\n",
              "2    247\n",
              "5    246\n",
              "3    246\n",
              "1    242\n",
              "6    230\n",
              "Name: n_cores, dtype: int64"
            ]
          },
          "metadata": {},
          "execution_count": 95
        }
      ]
    },
    {
      "cell_type": "code",
      "metadata": {
        "colab": {
          "base_uri": "https://localhost:8080/",
          "height": 0
        },
        "id": "Ntvfd0wPM8QK",
        "outputId": "10d5c80c-053d-4123-cc98-fb9aa91f7349"
      },
      "source": [
        "# Histplot to show count of each categories\n",
        "\n",
        "plt.figure(figsize=(10,5))\n",
        "sns.histplot(df['n_cores'],binwidth=0.4)\n",
        "plt.title('Count of each cores of processor')"
      ],
      "execution_count": 96,
      "outputs": [
        {
          "output_type": "execute_result",
          "data": {
            "text/plain": [
              "Text(0.5, 1.0, 'Count of each cores of processor')"
            ]
          },
          "metadata": {},
          "execution_count": 96
        },
        {
          "output_type": "display_data",
          "data": {
            "image/png": "[encoded data removed]",
            "text/plain": [
              "<Figure size 720x360 with 1 Axes>"
            ]
          },
          "metadata": {
            "needs_background": "light"
          }
        }
      ]
    },
    {
      "cell_type": "markdown",
      "metadata": {
        "id": "9DgXN_ZbNpO8"
      },
      "source": [
        "**We have almost equal no. of observations for each cores with highest observation for 4 cores.**"
      ]
    },
    {
      "cell_type": "markdown",
      "metadata": {
        "id": "LeUOL1OcN19B"
      },
      "source": [
        "## **m_dep**"
      ]
    },
    {
      "cell_type": "code",
      "metadata": {
        "colab": {
          "base_uri": "https://localhost:8080/"
        },
        "id": "aunuHEnPNTwL",
        "outputId": "d7cb6bd9-27ee-4b93-c5b3-d55fb97ce09c"
      },
      "source": [
        "# Checking unique categories\n",
        "\n",
        "sorted(list(df['m_dep'].unique()))"
      ],
      "execution_count": 97,
      "outputs": [
        {
          "output_type": "execute_result",
          "data": {
            "text/plain": [
              "[0.1, 0.2, 0.3, 0.4, 0.5, 0.6, 0.7, 0.8, 0.9, 1.0]"
            ]
          },
          "metadata": {},
          "execution_count": 97
        }
      ]
    },
    {
      "cell_type": "code",
      "metadata": {
        "colab": {
          "base_uri": "https://localhost:8080/"
        },
        "id": "C3iBoT6gOI-L",
        "outputId": "848081e2-670a-4fe3-c64b-0f19b7d048ba"
      },
      "source": [
        "# Value counts of each of categories.\n",
        "\n",
        "df['m_dep'].value_counts()"
      ],
      "execution_count": 98,
      "outputs": [
        {
          "output_type": "execute_result",
          "data": {
            "text/plain": [
              "0.1    320\n",
              "0.2    213\n",
              "0.8    208\n",
              "0.5    205\n",
              "0.7    200\n",
              "0.3    199\n",
              "0.9    195\n",
              "0.6    186\n",
              "0.4    168\n",
              "1.0    106\n",
              "Name: m_dep, dtype: int64"
            ]
          },
          "metadata": {},
          "execution_count": 98
        }
      ]
    },
    {
      "cell_type": "code",
      "metadata": {
        "colab": {
          "base_uri": "https://localhost:8080/",
          "height": 0
        },
        "id": "xYMlq00eORIR",
        "outputId": "a5812cf9-954c-48a4-c53d-80f096987dac"
      },
      "source": [
        "# Histplot to show count of each categories\n",
        "\n",
        "plt.figure(figsize=(10,5))\n",
        "xtick=sorted(list(df['m_dep'].unique()))\n",
        "sns.histplot(df['m_dep'],binwidth=0.04)\n",
        "plt.xticks(xtick)\n",
        "plt.title('Count of each depth values(cm)')"
      ],
      "execution_count": 99,
      "outputs": [
        {
          "output_type": "execute_result",
          "data": {
            "text/plain": [
              "Text(0.5, 1.0, 'Count of each depth values(cm)')"
            ]
          },
          "metadata": {},
          "execution_count": 99
        },
        {
          "output_type": "display_data",
          "data": {
            "image/png": "[encoded data removed]",
            "text/plain": [
              "<Figure size 720x360 with 1 Axes>"
            ]
          },
          "metadata": {
            "needs_background": "light"
          }
        }
      ]
    },
    {
      "cell_type": "markdown",
      "metadata": {
        "id": "5Hv6B6f3Petw"
      },
      "source": [
        "**There is higher no. of observations for 0.1 depth and least observations for 1 cm depth.**"
      ]
    },
    {
      "cell_type": "markdown",
      "metadata": {
        "id": "oZ49LA3JRFeG"
      },
      "source": [
        "## **blue**"
      ]
    },
    {
      "cell_type": "code",
      "metadata": {
        "colab": {
          "base_uri": "https://localhost:8080/"
        },
        "id": "tLqhunrSOZ5U",
        "outputId": "6c578d24-a98b-4cc3-a505-7dd14ac2cbc7"
      },
      "source": [
        "# Checking unique categories\n",
        "\n",
        "df['blue'].unique()"
      ],
      "execution_count": 100,
      "outputs": [
        {
          "output_type": "execute_result",
          "data": {
            "text/plain": [
              "array([0, 1])"
            ]
          },
          "metadata": {},
          "execution_count": 100
        }
      ]
    },
    {
      "cell_type": "code",
      "metadata": {
        "colab": {
          "base_uri": "https://localhost:8080/"
        },
        "id": "jt18z3G3TGuV",
        "outputId": "7804d5d4-7e12-40a0-e1e3-101f841ef1cd"
      },
      "source": [
        "# Value counts of each of categories.\n",
        "\n",
        "df['blue'].value_counts()"
      ],
      "execution_count": 101,
      "outputs": [
        {
          "output_type": "execute_result",
          "data": {
            "text/plain": [
              "0    1010\n",
              "1     990\n",
              "Name: blue, dtype: int64"
            ]
          },
          "metadata": {},
          "execution_count": 101
        }
      ]
    },
    {
      "cell_type": "code",
      "metadata": {
        "colab": {
          "base_uri": "https://localhost:8080/",
          "height": 0
        },
        "id": "18s7ACMHTPm7",
        "outputId": "58390a7f-facd-47e1-9245-54453e16a300"
      },
      "source": [
        "# Histplot to show count of each categories\n",
        "\n",
        "plt.figure(figsize=(5,5))\n",
        "xtick=[0,1]\n",
        "label = ['No', 'Yes']\n",
        "sns.histplot(df['blue'])\n",
        "plt.xticks(xtick, label)\n",
        "plt.title('Count of phones for blue')"
      ],
      "execution_count": 102,
      "outputs": [
        {
          "output_type": "execute_result",
          "data": {
            "text/plain": [
              "Text(0.5, 1.0, 'Count of phones for blue')"
            ]
          },
          "metadata": {},
          "execution_count": 102
        },
        {
          "output_type": "display_data",
          "data": {
            "image/png": "[encoded data removed]",
            "text/plain": [
              "<Figure size 360x360 with 1 Axes>"
            ]
          },
          "metadata": {
            "needs_background": "light"
          }
        }
      ]
    },
    {
      "cell_type": "markdown",
      "metadata": {
        "id": "C0n8jH5WXvvc"
      },
      "source": [
        "## **dual_sim**"
      ]
    },
    {
      "cell_type": "code",
      "metadata": {
        "colab": {
          "base_uri": "https://localhost:8080/"
        },
        "id": "lyK618iAVLB_",
        "outputId": "628f54ba-f569-40c8-94ad-e12e1b54bc16"
      },
      "source": [
        "# Checking unique categories\n",
        "\n",
        "df['dual_sim'].unique()"
      ],
      "execution_count": 103,
      "outputs": [
        {
          "output_type": "execute_result",
          "data": {
            "text/plain": [
              "array([0, 1])"
            ]
          },
          "metadata": {},
          "execution_count": 103
        }
      ]
    },
    {
      "cell_type": "code",
      "metadata": {
        "colab": {
          "base_uri": "https://localhost:8080/"
        },
        "id": "I-hLnbUqX5ZO",
        "outputId": "8791a9a5-c208-426b-b487-7a3b4db9a3c5"
      },
      "source": [
        "# Value counts of each of categories.\n",
        "\n",
        "df['dual_sim'].value_counts()"
      ],
      "execution_count": 104,
      "outputs": [
        {
          "output_type": "execute_result",
          "data": {
            "text/plain": [
              "1    1019\n",
              "0     981\n",
              "Name: dual_sim, dtype: int64"
            ]
          },
          "metadata": {},
          "execution_count": 104
        }
      ]
    },
    {
      "cell_type": "code",
      "metadata": {
        "colab": {
          "base_uri": "https://localhost:8080/",
          "height": 0
        },
        "id": "QgriXmzhX7qy",
        "outputId": "fbd21da0-b142-4d10-9928-6b189e89b2a9"
      },
      "source": [
        "# Histplot to show count of each categories\n",
        "\n",
        "plt.figure(figsize=(5,5))\n",
        "xtick=[0,1]\n",
        "label = ['No', 'Yes']\n",
        "sns.histplot(df['dual_sim'])\n",
        "plt.xticks(xtick, label)\n",
        "plt.title('Count of phones for dual_sim')"
      ],
      "execution_count": 105,
      "outputs": [
        {
          "output_type": "execute_result",
          "data": {
            "text/plain": [
              "Text(0.5, 1.0, 'Count of phones for dual_sim')"
            ]
          },
          "metadata": {},
          "execution_count": 105
        },
        {
          "output_type": "display_data",
          "data": {
            "image/png": "[encoded data removed]",
            "text/plain": [
              "<Figure size 360x360 with 1 Axes>"
            ]
          },
          "metadata": {
            "needs_background": "light"
          }
        }
      ]
    },
    {
      "cell_type": "markdown",
      "metadata": {
        "id": "ioXMgkS-YBEY"
      },
      "source": [
        "## **four_g**"
      ]
    },
    {
      "cell_type": "code",
      "metadata": {
        "colab": {
          "base_uri": "https://localhost:8080/"
        },
        "id": "LLxoLmNEYBeW",
        "outputId": "2c1c17ba-e221-43d1-f0e6-8818b0218663"
      },
      "source": [
        "# Checking unique categories\n",
        "\n",
        "df['four_g'].unique()"
      ],
      "execution_count": 106,
      "outputs": [
        {
          "output_type": "execute_result",
          "data": {
            "text/plain": [
              "array([0, 1])"
            ]
          },
          "metadata": {},
          "execution_count": 106
        }
      ]
    },
    {
      "cell_type": "code",
      "metadata": {
        "colab": {
          "base_uri": "https://localhost:8080/"
        },
        "id": "FXBi3TIHYDyh",
        "outputId": "3f9fd42d-2694-486d-bf70-18d7351baa2e"
      },
      "source": [
        "# Value counts of each of categories.\n",
        "\n",
        "df['four_g'].value_counts()"
      ],
      "execution_count": 107,
      "outputs": [
        {
          "output_type": "execute_result",
          "data": {
            "text/plain": [
              "1    1043\n",
              "0     957\n",
              "Name: four_g, dtype: int64"
            ]
          },
          "metadata": {},
          "execution_count": 107
        }
      ]
    },
    {
      "cell_type": "code",
      "metadata": {
        "colab": {
          "base_uri": "https://localhost:8080/",
          "height": 0
        },
        "id": "0lmXE5jxYHoa",
        "outputId": "990764a5-30ad-4ef8-85de-e582aff540c2"
      },
      "source": [
        "# Histplot to show count of each categories\n",
        "\n",
        "plt.figure(figsize=(5,5))\n",
        "xtick=[0,1]\n",
        "label = ['No', 'Yes']\n",
        "sns.histplot(df['four_g'])\n",
        "plt.xticks(xtick, label)\n",
        "plt.title('Count of phones for four_g')"
      ],
      "execution_count": 108,
      "outputs": [
        {
          "output_type": "execute_result",
          "data": {
            "text/plain": [
              "Text(0.5, 1.0, 'Count of phones for four_g')"
            ]
          },
          "metadata": {},
          "execution_count": 108
        },
        {
          "output_type": "display_data",
          "data": {
            "image/png": "[encoded data removed]",
            "text/plain": [
              "<Figure size 360x360 with 1 Axes>"
            ]
          },
          "metadata": {
            "needs_background": "light"
          }
        }
      ]
    },
    {
      "cell_type": "markdown",
      "metadata": {
        "id": "kFdXfNmEYI24"
      },
      "source": [
        "## **three_g**"
      ]
    },
    {
      "cell_type": "code",
      "metadata": {
        "colab": {
          "base_uri": "https://localhost:8080/"
        },
        "id": "bnzrvIoEYJXf",
        "outputId": "a9915437-5329-4747-be60-d28dba535474"
      },
      "source": [
        "# Checking unique categories\n",
        "\n",
        "df['three_g'].unique()"
      ],
      "execution_count": 109,
      "outputs": [
        {
          "output_type": "execute_result",
          "data": {
            "text/plain": [
              "array([0, 1])"
            ]
          },
          "metadata": {},
          "execution_count": 109
        }
      ]
    },
    {
      "cell_type": "code",
      "metadata": {
        "colab": {
          "base_uri": "https://localhost:8080/"
        },
        "id": "-j4lUaCVYLJr",
        "outputId": "2d70e049-317d-41e4-c664-6b5eca90d4f3"
      },
      "source": [
        "# Value counts of each of categories.\n",
        "\n",
        "df['three_g'].value_counts()"
      ],
      "execution_count": 110,
      "outputs": [
        {
          "output_type": "execute_result",
          "data": {
            "text/plain": [
              "1    1523\n",
              "0     477\n",
              "Name: three_g, dtype: int64"
            ]
          },
          "metadata": {},
          "execution_count": 110
        }
      ]
    },
    {
      "cell_type": "code",
      "metadata": {
        "colab": {
          "base_uri": "https://localhost:8080/",
          "height": 0
        },
        "id": "AgnxqUtxate5",
        "outputId": "8b868a1d-3921-447b-956b-861701cd1366"
      },
      "source": [
        "# Histplot to show count of each categories\n",
        "\n",
        "plt.figure(figsize=(5,5))\n",
        "xtick=[0,1]\n",
        "label = ['No', 'Yes']\n",
        "sns.histplot(df['three_g'])\n",
        "plt.xticks(xtick, label)\n",
        "plt.title('Count of phones for three_g')"
      ],
      "execution_count": 111,
      "outputs": [
        {
          "output_type": "execute_result",
          "data": {
            "text/plain": [
              "Text(0.5, 1.0, 'Count of phones for three_g')"
            ]
          },
          "metadata": {},
          "execution_count": 111
        },
        {
          "output_type": "display_data",
          "data": {
            "image/png": "[encoded data removed]",
            "text/plain": [
              "<Figure size 360x360 with 1 Axes>"
            ]
          },
          "metadata": {
            "needs_background": "light"
          }
        }
      ]
    },
    {
      "cell_type": "markdown",
      "metadata": {
        "id": "GjbeVMASbqdi"
      },
      "source": [
        "## **touch_screen**"
      ]
    },
    {
      "cell_type": "code",
      "metadata": {
        "colab": {
          "base_uri": "https://localhost:8080/"
        },
        "id": "qkGUKWKIa1Df",
        "outputId": "de1415ff-4280-442e-dc1e-36dbea906f5b"
      },
      "source": [
        "# Checking unique categories\n",
        "\n",
        "df['touch_screen'].unique()"
      ],
      "execution_count": 112,
      "outputs": [
        {
          "output_type": "execute_result",
          "data": {
            "text/plain": [
              "array([0, 1])"
            ]
          },
          "metadata": {},
          "execution_count": 112
        }
      ]
    },
    {
      "cell_type": "code",
      "metadata": {
        "colab": {
          "base_uri": "https://localhost:8080/"
        },
        "id": "Xk4qhqP4bvDx",
        "outputId": "e14d6788-0dc4-4cc1-a7c2-47508b3305ae"
      },
      "source": [
        "# Value counts of each of categories.\n",
        "\n",
        "df['touch_screen'].value_counts()"
      ],
      "execution_count": 113,
      "outputs": [
        {
          "output_type": "execute_result",
          "data": {
            "text/plain": [
              "1    1006\n",
              "0     994\n",
              "Name: touch_screen, dtype: int64"
            ]
          },
          "metadata": {},
          "execution_count": 113
        }
      ]
    },
    {
      "cell_type": "code",
      "metadata": {
        "colab": {
          "base_uri": "https://localhost:8080/",
          "height": 0
        },
        "id": "ScE-dEELbxUB",
        "outputId": "02e4b2da-5f72-4824-d3e1-4dc53e5ae72b"
      },
      "source": [
        "# Histplot to show count of each categories\n",
        "\n",
        "plt.figure(figsize=(5,5))\n",
        "xtick=[0,1]\n",
        "label = ['No', 'Yes']\n",
        "sns.histplot(df['touch_screen'])\n",
        "plt.xticks(xtick, label)\n",
        "plt.title('Count of phones for touch_screen')"
      ],
      "execution_count": 114,
      "outputs": [
        {
          "output_type": "execute_result",
          "data": {
            "text/plain": [
              "Text(0.5, 1.0, 'Count of phones for touch_screen')"
            ]
          },
          "metadata": {},
          "execution_count": 114
        },
        {
          "output_type": "display_data",
          "data": {
            "image/png": "[encoded data removed]",
            "text/plain": [
              "<Figure size 360x360 with 1 Axes>"
            ]
          },
          "metadata": {
            "needs_background": "light"
          }
        }
      ]
    },
    {
      "cell_type": "markdown",
      "metadata": {
        "id": "sV0yBCkBcDnN"
      },
      "source": [
        "## **wifi**"
      ]
    },
    {
      "cell_type": "code",
      "metadata": {
        "colab": {
          "base_uri": "https://localhost:8080/"
        },
        "id": "4QvRVtukcBnk",
        "outputId": "b8fc8227-38ea-40fb-c408-3575baaabdfb"
      },
      "source": [
        "# Checking unique categories\n",
        "\n",
        "df['wifi'].unique()"
      ],
      "execution_count": 115,
      "outputs": [
        {
          "output_type": "execute_result",
          "data": {
            "text/plain": [
              "array([1, 0])"
            ]
          },
          "metadata": {},
          "execution_count": 115
        }
      ]
    },
    {
      "cell_type": "code",
      "metadata": {
        "colab": {
          "base_uri": "https://localhost:8080/"
        },
        "id": "DvC5Q4UYcLxV",
        "outputId": "a4d5fdee-2cd4-4908-fd8b-50e40938eaac"
      },
      "source": [
        "# Value counts of each of categories.\n",
        "\n",
        "df['wifi'].value_counts()"
      ],
      "execution_count": 116,
      "outputs": [
        {
          "output_type": "execute_result",
          "data": {
            "text/plain": [
              "1    1014\n",
              "0     986\n",
              "Name: wifi, dtype: int64"
            ]
          },
          "metadata": {},
          "execution_count": 116
        }
      ]
    },
    {
      "cell_type": "code",
      "metadata": {
        "colab": {
          "base_uri": "https://localhost:8080/",
          "height": 0
        },
        "id": "8aPk405LcMp-",
        "outputId": "67a5e9a3-9955-406b-eadf-85ec7da30cd7"
      },
      "source": [
        "# Histplot to show count of each categories\n",
        "\n",
        "plt.figure(figsize=(5,5))\n",
        "xtick=[0,1]\n",
        "label = ['No', 'Yes']\n",
        "sns.histplot(df['wifi'])\n",
        "plt.xticks(xtick, label)\n",
        "plt.title('Count of phones for wifi')"
      ],
      "execution_count": 117,
      "outputs": [
        {
          "output_type": "execute_result",
          "data": {
            "text/plain": [
              "Text(0.5, 1.0, 'Count of phones for wifi')"
            ]
          },
          "metadata": {},
          "execution_count": 117
        },
        {
          "output_type": "display_data",
          "data": {
            "image/png": "[encoded data removed]",
            "text/plain": [
              "<Figure size 360x360 with 1 Axes>"
            ]
          },
          "metadata": {
            "needs_background": "light"
          }
        }
      ]
    },
    {
      "cell_type": "markdown",
      "metadata": {
        "id": "wsxJnbcOcaXa"
      },
      "source": [
        "### **All these features have only two values i.e. '1' or '0'.**\n",
        "\n",
        "### **Number of observation is almost equal for all these features except three_g.**"
      ]
    },
    {
      "cell_type": "markdown",
      "metadata": {
        "id": "1aU7zZ6Mfqi5"
      },
      "source": [
        "## **Correlation matrix**"
      ]
    },
    {
      "cell_type": "code",
      "metadata": {
        "colab": {
          "base_uri": "https://localhost:8080/",
          "height": 0
        },
        "id": "F_yhDeM-cUrH",
        "outputId": "d0a9d4dc-6c1b-4774-ffa7-90afc4ebf220"
      },
      "source": [
        "# Heatmap showing correlation between features\n",
        "\n",
        "plt.figure(figsize=(20,20))\n",
        "sns.heatmap(abs(df.corr()),annot=True, cmap='BuPu',square=True)\n",
        "plt.title('Heatmap',fontsize=20)"
      ],
      "execution_count": 118,
      "outputs": [
        {
          "output_type": "execute_result",
          "data": {
            "text/plain": [
              "Text(0.5, 1.0, 'Heatmap')"
            ]
          },
          "metadata": {},
          "execution_count": 118
        },
        {
          "output_type": "display_data",
          "data": {
            "image/png": "[encoded data removed]",
            "text/plain": [
              "<Figure size 1440x1440 with 2 Axes>"
            ]
          },
          "metadata": {
            "needs_background": "light"
          }
        }
      ]
    },
    {
      "cell_type": "markdown",
      "metadata": {
        "id": "HiZRzWE7j9E2"
      },
      "source": [
        "* **From the above heatmap it is clear that ram is highly correlated with price_range.**\n",
        "* **Also, battery_power is moderately correlated with price_range.**"
      ]
    },
    {
      "cell_type": "markdown",
      "metadata": {
        "id": "Wj_Rx0kwDnIE"
      },
      "source": [
        "## **Let's find influence of independent variables on our dependent variable**"
      ]
    },
    {
      "cell_type": "markdown",
      "metadata": {
        "id": "zFz8Eyf7F7wR"
      },
      "source": [
        "### **Blue v/s price_range**"
      ]
    },
    {
      "cell_type": "code",
      "metadata": {
        "id": "P_FGxzzsiWKU",
        "colab": {
          "base_uri": "https://localhost:8080/",
          "height": 0
        },
        "outputId": "30aaba1d-ce84-4578-f39b-d7e1b3b07e32"
      },
      "source": [
        "# Barplot showing price_range of phones with bluetooth or not.\n",
        "\n",
        "plt.rcParams['figure.figsize']=(13,10)\n",
        "df.groupby(['price_range']).agg({'blue':'value_counts'}).unstack().plot.bar()\n",
        "plt.title('Count of phones with and without bluetooth')\n",
        "plt.xlabel('Price range')\n",
        "plt.ylabel('No. of phones')"
      ],
      "execution_count": 119,
      "outputs": [
        {
          "output_type": "execute_result",
          "data": {
            "text/plain": [
              "Text(0, 0.5, 'No. of phones')"
            ]
          },
          "metadata": {},
          "execution_count": 119
        },
        {
          "output_type": "display_data",
          "data": {
            "image/png": "[encoded data removed]",
            "text/plain": [
              "<Figure size 936x720 with 1 Axes>"
            ]
          },
          "metadata": {
            "needs_background": "light"
          }
        }
      ]
    },
    {
      "cell_type": "markdown",
      "metadata": {
        "id": "6rGB_wMjHdOn"
      },
      "source": [
        "* **All price ranges have almost equal no. of observations for both with or without bluetooth.**"
      ]
    },
    {
      "cell_type": "markdown",
      "metadata": {
        "id": "VfIjz1fOG7iM"
      },
      "source": [
        "### **Dual_sim v/s price_range**"
      ]
    },
    {
      "cell_type": "code",
      "metadata": {
        "colab": {
          "base_uri": "https://localhost:8080/",
          "height": 0
        },
        "id": "U6Mbg7BDFijV",
        "outputId": "1830fac8-8ae8-4710-fc48-f54b4fdea2f3"
      },
      "source": [
        "# Barplot showing price_range of phones with dual sim or not.\n",
        "\n",
        "plt.rcParams['figure.figsize']=(13,10)\n",
        "df.groupby(['price_range']).agg({'dual_sim':'value_counts'}).unstack().plot.bar()\n",
        "plt.title('Count of phones with and without dual sim')\n",
        "plt.xlabel('Price range')\n",
        "plt.ylabel('No. of phones')"
      ],
      "execution_count": 120,
      "outputs": [
        {
          "output_type": "execute_result",
          "data": {
            "text/plain": [
              "Text(0, 0.5, 'No. of phones')"
            ]
          },
          "metadata": {},
          "execution_count": 120
        },
        {
          "output_type": "display_data",
          "data": {
            "image/png": "[encoded data removed]",
            "text/plain": [
              "<Figure size 936x720 with 1 Axes>"
            ]
          },
          "metadata": {
            "needs_background": "light"
          }
        }
      ]
    },
    {
      "cell_type": "markdown",
      "metadata": {
        "id": "LFOlxMoLHtaJ"
      },
      "source": [
        "* **All price ranges have almost equal no. of observations for both with or without dual sim.**\n",
        "* **But for very high price range, dual sim should be supported.**"
      ]
    },
    {
      "cell_type": "markdown",
      "metadata": {
        "id": "r5dtmoqdJK8s"
      },
      "source": [
        "### **N_cores and m_depth v/s price range**"
      ]
    },
    {
      "cell_type": "code",
      "metadata": {
        "colab": {
          "base_uri": "https://localhost:8080/",
          "height": 0
        },
        "id": "9IsmWgQDGuLV",
        "outputId": "de163347-fe34-4b80-d51c-c630e1261e25"
      },
      "source": [
        "# grouping price range with n_cores and m_dep and visualizing \n",
        "\n",
        "list1=['n_cores','m_dep']\n",
        "for item in list1:\n",
        "  plt.rcParams['figure.figsize']=(10,8)\n",
        "  df.groupby(['price_range'])[item].value_counts().unstack().plot.bar()\n",
        "  plt.title(f'Price range grouped by {item}')\n",
        "  plt.ylabel('No. of phones')"
      ],
      "execution_count": 121,
      "outputs": [
        {
          "output_type": "display_data",
          "data": {
            "image/png": "[encoded data removed]",
            "text/plain": [
              "<Figure size 720x576 with 1 Axes>"
            ]
          },
          "metadata": {
            "needs_background": "light"
          }
        },
        {
          "output_type": "display_data",
          "data": {
            "image/png": "[encoded data removed]",
            "text/plain": [
              "<Figure size 720x576 with 1 Axes>"
            ]
          },
          "metadata": {
            "needs_background": "light"
          }
        }
      ]
    },
    {
      "cell_type": "markdown",
      "metadata": {
        "id": "S7vmYQzrJioP"
      },
      "source": [
        "* **Count of less n_cores is high for 0 and 1 price range.**\n",
        "\n",
        "* **Count of high n_cores is high for 2 and 3 price range.**\n",
        "\n",
        "* **Count of phones with less thickness is high and count of phones with high thickness is low.**"
      ]
    },
    {
      "cell_type": "markdown",
      "metadata": {
        "id": "ArNu6G6bMvUL"
      },
      "source": [
        "### **Battery_power v/s price_range**"
      ]
    },
    {
      "cell_type": "code",
      "metadata": {
        "colab": {
          "base_uri": "https://localhost:8080/",
          "height": 0
        },
        "id": "0UI0o7KmJZ9B",
        "outputId": "93f10316-7789-413d-d547-c8c0a2d235d1"
      },
      "source": [
        "# Visualizing price range with battery power using lineplot\n",
        "\n",
        "plt.figure(figsize=(10,7))\n",
        "xtick=[0,1,2,3]\n",
        "plt.xticks(xtick)\n",
        "sns.lineplot(x='price_range',y='battery_power',data=df)\n",
        "plt.title('Battery power vs price range')"
      ],
      "execution_count": 122,
      "outputs": [
        {
          "output_type": "execute_result",
          "data": {
            "text/plain": [
              "Text(0.5, 1.0, 'Battery power vs price range')"
            ]
          },
          "metadata": {},
          "execution_count": 122
        },
        {
          "output_type": "display_data",
          "data": {
            "image/png": "[encoded data removed]",
            "text/plain": [
              "<Figure size 720x504 with 1 Axes>"
            ]
          },
          "metadata": {
            "needs_background": "light"
          }
        }
      ]
    },
    {
      "cell_type": "markdown",
      "metadata": {
        "id": "oTZu62aONyGC"
      },
      "source": [
        "* **Battery power increases as price range increases.**"
      ]
    },
    {
      "cell_type": "markdown",
      "metadata": {
        "id": "oya_rdPVN8wP"
      },
      "source": [
        "### **Ram v/s price_range**"
      ]
    },
    {
      "cell_type": "code",
      "metadata": {
        "colab": {
          "base_uri": "https://localhost:8080/",
          "height": 0
        },
        "id": "2fsw3IP1NcGo",
        "outputId": "c2fd1114-30d4-48bf-dc8a-712bf764e951"
      },
      "source": [
        "# Visualizing price range with ram using lineplot\n",
        "\n",
        "plt.figure(figsize=(10,7))\n",
        "xtick=[0,1,2,3]\n",
        "plt.xticks(xtick)\n",
        "sns.lineplot(x='price_range',y='ram',data=df)\n",
        "plt.title('Ram vs price range')"
      ],
      "execution_count": 123,
      "outputs": [
        {
          "output_type": "execute_result",
          "data": {
            "text/plain": [
              "Text(0.5, 1.0, 'Ram vs price range')"
            ]
          },
          "metadata": {},
          "execution_count": 123
        },
        {
          "output_type": "display_data",
          "data": {
            "image/png": "[encoded data removed]",
            "text/plain": [
              "<Figure size 720x504 with 1 Axes>"
            ]
          },
          "metadata": {
            "needs_background": "light"
          }
        }
      ]
    },
    {
      "cell_type": "markdown",
      "metadata": {
        "id": "CGD88eJoOQVM"
      },
      "source": [
        "* **Ram is having direct impact on price range.**\n",
        "* **Higher ram is equal to higher prices.**"
      ]
    },
    {
      "cell_type": "markdown",
      "metadata": {
        "id": "SGgMUn1Z-Oub"
      },
      "source": [
        "### **Battery_power, px_height, px_width, ram v/s price_range**"
      ]
    },
    {
      "cell_type": "code",
      "metadata": {
        "id": "JIO8wtqyON6J",
        "colab": {
          "base_uri": "https://localhost:8080/",
          "height": 0
        },
        "outputId": "af6a4093-4e20-4ee9-e0f2-7a177d4b16a0"
      },
      "source": [
        "# Visualizing price range grouped by these variables using boxplot\n",
        "\n",
        "list1=['battery_power','px_height','px_width','ram']\n",
        "plt.figure(figsize=(20,6))\n",
        "for index,item in enumerate(list1):\n",
        "  xtick=[0,1,2,3]\n",
        "  plt.subplot(1,4,index+1)\n",
        "  plt.xticks(xtick)\n",
        "  sns.boxplot(x='price_range',y=item,data=df)\n",
        "  plt.title(f'{item} vs price range')"
      ],
      "execution_count": 124,
      "outputs": [
        {
          "output_type": "display_data",
          "data": {
            "image/png": "[encoded data removed]",
            "text/plain": [
              "<Figure size 1440x432 with 4 Axes>"
            ]
          },
          "metadata": {
            "needs_background": "light"
          }
        }
      ]
    },
    {
      "cell_type": "markdown",
      "metadata": {
        "id": "LRRXmCcS6hAm"
      },
      "source": [
        "* **Mean value of all these variables is increasing with increase in prices.**"
      ]
    },
    {
      "cell_type": "markdown",
      "metadata": {
        "id": "-nBQlfUp-fht"
      },
      "source": [
        "### **int_memory v/s price_range**"
      ]
    },
    {
      "cell_type": "code",
      "metadata": {
        "colab": {
          "base_uri": "https://localhost:8080/",
          "height": 0
        },
        "id": "xHAl7hA16eA8",
        "outputId": "b5e475c1-40a9-46f9-8da4-432238c2a7a2"
      },
      "source": [
        "# Lineplot to show relation between internal memory and price range.\n",
        "\n",
        "plt.figure(figsize=(10,7))\n",
        "xtick=[0,1,2,3]\n",
        "sns.lineplot(x='price_range',y='int_memory',data=df)\n",
        "plt.xticks(xtick)\n",
        "plt.title('int_memory vs price range')"
      ],
      "execution_count": 125,
      "outputs": [
        {
          "output_type": "execute_result",
          "data": {
            "text/plain": [
              "Text(0.5, 1.0, 'int_memory vs price range')"
            ]
          },
          "metadata": {},
          "execution_count": 125
        },
        {
          "output_type": "display_data",
          "data": {
            "image/png": "[encoded data removed]",
            "text/plain": [
              "<Figure size 720x504 with 1 Axes>"
            ]
          },
          "metadata": {
            "needs_background": "light"
          }
        }
      ]
    },
    {
      "cell_type": "markdown",
      "metadata": {
        "id": "T2ksYxxYBbMe"
      },
      "source": [
        "* **From the above line plot it is clear that for very high prices there is drastic increase in internal memory.**"
      ]
    },
    {
      "cell_type": "markdown",
      "metadata": {
        "id": "R1z7uBNzBujo"
      },
      "source": [
        "# **Data Wrangling**"
      ]
    },
    {
      "cell_type": "markdown",
      "metadata": {
        "id": "9A2EcQGUCFgG"
      },
      "source": [
        "## **Missing values**"
      ]
    },
    {
      "cell_type": "markdown",
      "metadata": {
        "id": "6DDv5NbCCtQv"
      },
      "source": [
        "**Let's check for Nan values.**"
      ]
    },
    {
      "cell_type": "code",
      "metadata": {
        "colab": {
          "base_uri": "https://localhost:8080/"
        },
        "id": "LiNWvWd5BPbE",
        "outputId": "d6b702b6-695b-4586-f845-40ec9fa7686e"
      },
      "source": [
        "# Checking for Null values\n",
        "\n",
        "df.isnull().sum()"
      ],
      "execution_count": 126,
      "outputs": [
        {
          "output_type": "execute_result",
          "data": {
            "text/plain": [
              "battery_power    0\n",
              "blue             0\n",
              "clock_speed      0\n",
              "dual_sim         0\n",
              "fc               0\n",
              "four_g           0\n",
              "int_memory       0\n",
              "m_dep            0\n",
              "mobile_wt        0\n",
              "n_cores          0\n",
              "pc               0\n",
              "px_height        0\n",
              "px_width         0\n",
              "ram              0\n",
              "sc_h             0\n",
              "sc_w             0\n",
              "talk_time        0\n",
              "three_g          0\n",
              "touch_screen     0\n",
              "wifi             0\n",
              "price_range      0\n",
              "dtype: int64"
            ]
          },
          "metadata": {},
          "execution_count": 126
        }
      ]
    },
    {
      "cell_type": "markdown",
      "metadata": {
        "id": "1czO7R1iDFBv"
      },
      "source": [
        "* **Great! We dont have any missing values in our dataset.**"
      ]
    },
    {
      "cell_type": "markdown",
      "metadata": {
        "id": "gAv0Qc72DKYi"
      },
      "source": [
        "## **Outliers**"
      ]
    },
    {
      "cell_type": "code",
      "metadata": {
        "id": "o-YiuIRWC3wc",
        "colab": {
          "base_uri": "https://localhost:8080/",
          "height": 0
        },
        "outputId": "192b1cc4-bad7-4b8d-fb45-4129fabe125a"
      },
      "source": [
        "# Checking outliers for discrete and continous type variables using box plot\n",
        "\n",
        "list1=['clock_speed','fc','pc','sc_h','sc_w','talk_time','int_memory','mobile_wt','battery_power','px_height','px_width','ram']\n",
        "plt.figure(figsize=(20,10))\n",
        "for index,item in enumerate(list1):\n",
        "  plt.subplot(2,6,index+1)\n",
        "  sns.boxplot(df[item])"
      ],
      "execution_count": 127,
      "outputs": [
        {
          "output_type": "display_data",
          "data": {
            "image/png": "[encoded data removed]",
            "text/plain": [
              "<Figure size 1440x720 with 12 Axes>"
            ]
          },
          "metadata": {
            "needs_background": "light"
          }
        }
      ]
    },
    {
      "cell_type": "markdown",
      "metadata": {
        "id": "a0xWH2zWA9y3"
      },
      "source": [
        "* **Great! It looks like we dont have any outliers except in fc which can be considered negligible as they are not that far away from the maximum value.**"
      ]
    },
    {
      "cell_type": "markdown",
      "metadata": {
        "id": "YbQc3fPcBOQ1"
      },
      "source": [
        "## **Feature Engineering**"
      ]
    },
    {
      "cell_type": "markdown",
      "metadata": {
        "id": "qrhSqm54BUqM"
      },
      "source": [
        "**In this section we will try to modify some columns and form new columns.**"
      ]
    },
    {
      "cell_type": "code",
      "metadata": {
        "id": "o6-tNDSEALHm"
      },
      "source": [
        "# First make copy of dataset before making changes\n",
        "\n",
        "df_copy=df.copy()"
      ],
      "execution_count": 128,
      "outputs": []
    },
    {
      "cell_type": "markdown",
      "metadata": {
        "id": "BskZe2AKCGE2"
      },
      "source": [
        "* **Earlier we saw in correlation heatmap that px_height and px_width were moderately correlated.**\n",
        "* **Also, sc_h and sc_w were moderately correlated**\n",
        "\n",
        "**Thus we can convert them into single column.**"
      ]
    },
    {
      "cell_type": "code",
      "metadata": {
        "id": "JIO4R_zxBrA6"
      },
      "source": [
        "# Creating new column px_area from px_height and px_weight\n",
        "\n",
        "df_copy['px_area']=df_copy['px_height']*df_copy['px_width']"
      ],
      "execution_count": 129,
      "outputs": []
    },
    {
      "cell_type": "code",
      "metadata": {
        "id": "5oW7Fy8ZDcAK"
      },
      "source": [
        "# Creating new column sc_area from sc_h and sc_w\n",
        "\n",
        "df_copy['sc_area']=df_copy['sc_h']*df_copy['sc_w']"
      ],
      "execution_count": 130,
      "outputs": []
    },
    {
      "cell_type": "markdown",
      "metadata": {
        "id": "Mwi03PCuDjtm"
      },
      "source": [
        "**Now, we can drop those earlier columns from our dataset.**"
      ]
    },
    {
      "cell_type": "code",
      "metadata": {
        "id": "ayqc3I0DDieX"
      },
      "source": [
        "# Dropping columns\n",
        "\n",
        "df_copy.drop(columns=['px_height','px_width','sc_h','sc_w',],inplace=True)"
      ],
      "execution_count": 131,
      "outputs": []
    },
    {
      "cell_type": "code",
      "metadata": {
        "colab": {
          "base_uri": "https://localhost:8080/",
          "height": 0
        },
        "id": "fzLbTfQDDw_f",
        "outputId": "c25a5da1-c879-4410-a2bb-c57f41acd771"
      },
      "source": [
        "# Let's check first 5 rows of our modified dataset\n",
        "\n",
        "df_copy.head()"
      ],
      "execution_count": 132,
      "outputs": [
        {
          "output_type": "execute_result",
          "data": {
            "text/html": [
              "<div>\n",
              "<style scoped>\n",
              "    .dataframe tbody tr th:only-of-type {\n",
              "        vertical-align: middle;\n",
              "    }\n",
              "\n",
              "    .dataframe tbody tr th {\n",
              "        vertical-align: top;\n",
              "    }\n",
              "\n",
              "    .dataframe thead th {\n",
              "        text-align: right;\n",
              "    }\n",
              "</style>\n",
              "<table border=\"1\" class=\"dataframe\">\n",
              "  <thead>\n",
              "    <tr style=\"text-align: right;\">\n",
              "      <th></th>\n",
              "      <th>battery_power</th>\n",
              "      <th>blue</th>\n",
              "      <th>clock_speed</th>\n",
              "      <th>dual_sim</th>\n",
              "      <th>fc</th>\n",
              "      <th>four_g</th>\n",
              "      <th>int_memory</th>\n",
              "      <th>m_dep</th>\n",
              "      <th>mobile_wt</th>\n",
              "      <th>n_cores</th>\n",
              "      <th>pc</th>\n",
              "      <th>ram</th>\n",
              "      <th>talk_time</th>\n",
              "      <th>three_g</th>\n",
              "      <th>touch_screen</th>\n",
              "      <th>wifi</th>\n",
              "      <th>price_range</th>\n",
              "      <th>px_area</th>\n",
              "      <th>sc_area</th>\n",
              "    </tr>\n",
              "  </thead>\n",
              "  <tbody>\n",
              "    <tr>\n",
              "      <th>0</th>\n",
              "      <td>842</td>\n",
              "      <td>0</td>\n",
              "      <td>2.2</td>\n",
              "      <td>0</td>\n",
              "      <td>1</td>\n",
              "      <td>0</td>\n",
              "      <td>7</td>\n",
              "      <td>0.6</td>\n",
              "      <td>188</td>\n",
              "      <td>2</td>\n",
              "      <td>2</td>\n",
              "      <td>2549</td>\n",
              "      <td>19</td>\n",
              "      <td>0</td>\n",
              "      <td>0</td>\n",
              "      <td>1</td>\n",
              "      <td>1</td>\n",
              "      <td>15120</td>\n",
              "      <td>63</td>\n",
              "    </tr>\n",
              "    <tr>\n",
              "      <th>1</th>\n",
              "      <td>1021</td>\n",
              "      <td>1</td>\n",
              "      <td>0.5</td>\n",
              "      <td>1</td>\n",
              "      <td>0</td>\n",
              "      <td>1</td>\n",
              "      <td>53</td>\n",
              "      <td>0.7</td>\n",
              "      <td>136</td>\n",
              "      <td>3</td>\n",
              "      <td>6</td>\n",
              "      <td>2631</td>\n",
              "      <td>7</td>\n",
              "      <td>1</td>\n",
              "      <td>1</td>\n",
              "      <td>0</td>\n",
              "      <td>2</td>\n",
              "      <td>1799140</td>\n",
              "      <td>51</td>\n",
              "    </tr>\n",
              "    <tr>\n",
              "      <th>2</th>\n",
              "      <td>563</td>\n",
              "      <td>1</td>\n",
              "      <td>0.5</td>\n",
              "      <td>1</td>\n",
              "      <td>2</td>\n",
              "      <td>1</td>\n",
              "      <td>41</td>\n",
              "      <td>0.9</td>\n",
              "      <td>145</td>\n",
              "      <td>5</td>\n",
              "      <td>6</td>\n",
              "      <td>2603</td>\n",
              "      <td>9</td>\n",
              "      <td>1</td>\n",
              "      <td>1</td>\n",
              "      <td>0</td>\n",
              "      <td>2</td>\n",
              "      <td>2167308</td>\n",
              "      <td>22</td>\n",
              "    </tr>\n",
              "    <tr>\n",
              "      <th>3</th>\n",
              "      <td>615</td>\n",
              "      <td>1</td>\n",
              "      <td>2.5</td>\n",
              "      <td>0</td>\n",
              "      <td>0</td>\n",
              "      <td>0</td>\n",
              "      <td>10</td>\n",
              "      <td>0.8</td>\n",
              "      <td>131</td>\n",
              "      <td>6</td>\n",
              "      <td>9</td>\n",
              "      <td>2769</td>\n",
              "      <td>11</td>\n",
              "      <td>1</td>\n",
              "      <td>0</td>\n",
              "      <td>0</td>\n",
              "      <td>2</td>\n",
              "      <td>2171776</td>\n",
              "      <td>128</td>\n",
              "    </tr>\n",
              "    <tr>\n",
              "      <th>4</th>\n",
              "      <td>1821</td>\n",
              "      <td>1</td>\n",
              "      <td>1.2</td>\n",
              "      <td>0</td>\n",
              "      <td>13</td>\n",
              "      <td>1</td>\n",
              "      <td>44</td>\n",
              "      <td>0.6</td>\n",
              "      <td>141</td>\n",
              "      <td>2</td>\n",
              "      <td>14</td>\n",
              "      <td>1411</td>\n",
              "      <td>15</td>\n",
              "      <td>1</td>\n",
              "      <td>1</td>\n",
              "      <td>0</td>\n",
              "      <td>1</td>\n",
              "      <td>1464096</td>\n",
              "      <td>16</td>\n",
              "    </tr>\n",
              "  </tbody>\n",
              "</table>\n",
              "</div>"
            ],
            "text/plain": [
              "   battery_power  blue  clock_speed  ...  price_range  px_area  sc_area\n",
              "0            842     0          2.2  ...            1    15120       63\n",
              "1           1021     1          0.5  ...            2  1799140       51\n",
              "2            563     1          0.5  ...            2  2167308       22\n",
              "3            615     1          2.5  ...            2  2171776      128\n",
              "4           1821     1          1.2  ...            1  1464096       16\n",
              "\n",
              "[5 rows x 19 columns]"
            ]
          },
          "metadata": {},
          "execution_count": 132
        }
      ]
    },
    {
      "cell_type": "markdown",
      "metadata": {
        "id": "sYjhrb_ckvDd"
      },
      "source": [
        "## **Splitting the data and Standardization**"
      ]
    },
    {
      "cell_type": "code",
      "metadata": {
        "id": "WgvFtOkel9u1"
      },
      "source": [
        "# Importing library\n",
        "\n",
        "from sklearn.model_selection import train_test_split\n",
        "from sklearn.preprocessing import StandardScaler"
      ],
      "execution_count": 133,
      "outputs": []
    },
    {
      "cell_type": "code",
      "metadata": {
        "id": "uMcL6rgUEh5f"
      },
      "source": [
        "# Extracting independent features\n",
        "\n",
        "X=df_copy.drop(columns='price_range')"
      ],
      "execution_count": 134,
      "outputs": []
    },
    {
      "cell_type": "code",
      "metadata": {
        "id": "rQupXHSulFlj"
      },
      "source": [
        "# Extracting dependent/target variable\n",
        "\n",
        "y=df_copy['price_range']"
      ],
      "execution_count": 135,
      "outputs": []
    },
    {
      "cell_type": "code",
      "metadata": {
        "id": "1XXJkGsflNKx"
      },
      "source": [
        "# splitting the dataset\n",
        "# random_state=0 to ensure same observations in each set everytime we run\n",
        "\n",
        "X_train, X_test, y_train, y_test = train_test_split(X, y, test_size=0.2, random_state=0)  "
      ],
      "execution_count": 136,
      "outputs": []
    },
    {
      "cell_type": "code",
      "metadata": {
        "id": "eazssMeplz_q"
      },
      "source": [
        "# standardizing the independent variables\n",
        "\n",
        "scaler=StandardScaler()\n",
        "X_train=scaler.fit_transform(X_train)\n",
        "X_test=scaler.fit_transform(X_test)"
      ],
      "execution_count": 137,
      "outputs": []
    },
    {
      "cell_type": "markdown",
      "metadata": {
        "id": "joKIUNv0n0Gg"
      },
      "source": [
        "# **Fitting models**"
      ]
    },
    {
      "cell_type": "markdown",
      "metadata": {
        "id": "G_L40y-OoREu"
      },
      "source": [
        "## **Random Forest Classifier**"
      ]
    },
    {
      "cell_type": "code",
      "metadata": {
        "id": "wB9ONdCtqZ1B"
      },
      "source": [
        "# Importing library\n",
        "\n",
        "from sklearn.ensemble import RandomForestClassifier"
      ],
      "execution_count": 138,
      "outputs": []
    },
    {
      "cell_type": "markdown",
      "metadata": {
        "id": "ZyzpJdZRqEPZ"
      },
      "source": [
        "**Initial fitting**"
      ]
    },
    {
      "cell_type": "code",
      "metadata": {
        "colab": {
          "base_uri": "https://localhost:8080/"
        },
        "id": "OwZNcekhnSgr",
        "outputId": "b58cf510-2747-4a70-b9fb-02fa6f19fba3"
      },
      "source": [
        "# Creating instance of random forest and fitting data\n",
        "\n",
        "rf_model=RandomForestClassifier(random_state=0)\n",
        "rf_model.fit(X_train,y_train)"
      ],
      "execution_count": 139,
      "outputs": [
        {
          "output_type": "execute_result",
          "data": {
            "text/plain": [
              "RandomForestClassifier(bootstrap=True, ccp_alpha=0.0, class_weight=None,\n",
              "                       criterion='gini', max_depth=None, max_features='auto',\n",
              "                       max_leaf_nodes=None, max_samples=None,\n",
              "                       min_impurity_decrease=0.0, min_impurity_split=None,\n",
              "                       min_samples_leaf=1, min_samples_split=2,\n",
              "                       min_weight_fraction_leaf=0.0, n_estimators=100,\n",
              "                       n_jobs=None, oob_score=False, random_state=0, verbose=0,\n",
              "                       warm_start=False)"
            ]
          },
          "metadata": {},
          "execution_count": 139
        }
      ]
    },
    {
      "cell_type": "code",
      "metadata": {
        "id": "i6xvo1SUqppm"
      },
      "source": [
        "# predicting for both train and test\n",
        "\n",
        "y_pred_train1=rf_model.predict(X_train)\n",
        "y_pred_test1=rf_model.predict(X_test)"
      ],
      "execution_count": 140,
      "outputs": []
    },
    {
      "cell_type": "code",
      "metadata": {
        "colab": {
          "base_uri": "https://localhost:8080/"
        },
        "id": "HzuTrqDjrdme",
        "outputId": "80a60b7d-8950-4e3b-9d47-e41d91efa79c"
      },
      "source": [
        "# Checking predicted values for test set\n",
        "\n",
        "y_pred_test1"
      ],
      "execution_count": 141,
      "outputs": [
        {
          "output_type": "execute_result",
          "data": {
            "text/plain": [
              "array([3, 0, 2, 1, 2, 0, 0, 3, 3, 1, 0, 3, 0, 2, 3, 0, 3, 2, 2, 1, 0, 0,\n",
              "       3, 1, 1, 2, 3, 1, 3, 1, 1, 0, 2, 0, 2, 3, 0, 0, 3, 3, 3, 1, 3, 2,\n",
              "       1, 3, 0, 1, 3, 1, 1, 3, 0, 2, 0, 2, 2, 1, 0, 3, 3, 1, 3, 2, 1, 2,\n",
              "       3, 2, 1, 2, 3, 2, 1, 0, 1, 3, 2, 1, 1, 1, 3, 3, 3, 0, 0, 0, 2, 0,\n",
              "       2, 3, 1, 2, 1, 1, 0, 3, 2, 3, 0, 3, 1, 1, 2, 1, 3, 2, 2, 3, 2, 3,\n",
              "       2, 0, 0, 1, 2, 3, 0, 1, 1, 0, 0, 3, 2, 2, 1, 1, 1, 1, 0, 2, 1, 3,\n",
              "       2, 3, 3, 3, 3, 2, 0, 1, 1, 2, 1, 3, 0, 3, 0, 0, 2, 0, 1, 1, 1, 1,\n",
              "       3, 0, 0, 3, 1, 3, 2, 1, 3, 1, 2, 3, 3, 2, 1, 0, 3, 1, 2, 3, 3, 0,\n",
              "       1, 2, 3, 0, 2, 1, 0, 1, 2, 1, 2, 0, 2, 3, 1, 1, 0, 2, 3, 0, 1, 2,\n",
              "       2, 0, 3, 3, 3, 1, 1, 3, 2, 3, 0, 0, 0, 2, 3, 3, 0, 0, 1, 3, 1, 3,\n",
              "       3, 3, 0, 0, 2, 2, 3, 1, 0, 2, 0, 0, 0, 3, 2, 0, 2, 2, 0, 1, 0, 2,\n",
              "       3, 3, 0, 0, 1, 3, 3, 1, 3, 0, 3, 1, 1, 0, 1, 3, 3, 2, 0, 0, 1, 2,\n",
              "       3, 2, 2, 3, 2, 1, 0, 3, 3, 1, 1, 3, 2, 2, 2, 1, 0, 2, 2, 1, 0, 0,\n",
              "       2, 2, 2, 2, 0, 1, 3, 0, 1, 2, 3, 0, 2, 0, 0, 1, 3, 0, 0, 1, 3, 1,\n",
              "       1, 0, 1, 0, 3, 0, 3, 3, 2, 3, 0, 1, 2, 1, 1, 2, 0, 1, 0, 3, 1, 0,\n",
              "       3, 0, 0, 1, 2, 0, 3, 1, 1, 0, 0, 3, 0, 1, 1, 1, 2, 1, 1, 0, 2, 0,\n",
              "       0, 3, 1, 2, 3, 2, 2, 0, 3, 2, 2, 1, 3, 2, 3, 3, 3, 0, 2, 0, 2, 0,\n",
              "       1, 0, 2, 2, 1, 3, 1, 1, 0, 1, 2, 3, 0, 0, 1, 3, 0, 3, 0, 1, 2, 1,\n",
              "       1, 0, 2, 0])"
            ]
          },
          "metadata": {},
          "execution_count": 141
        }
      ]
    },
    {
      "cell_type": "markdown",
      "metadata": {
        "id": "GTl5yYyd6HBf"
      },
      "source": [
        "**Evaluation metrics**"
      ]
    },
    {
      "cell_type": "code",
      "metadata": {
        "id": "5ZEa0HxBrplL"
      },
      "source": [
        "# Importing libraries\n",
        "\n",
        "from sklearn.metrics import accuracy_score,precision_score,recall_score,confusion_matrix,f1_score,classification_report,roc_auc_score"
      ],
      "execution_count": 142,
      "outputs": []
    },
    {
      "cell_type": "code",
      "metadata": {
        "colab": {
          "base_uri": "https://localhost:8080/"
        },
        "id": "SUkyAYGM6tM-",
        "outputId": "6c8a0390-5d47-4920-cf01-ea83f921898d"
      },
      "source": [
        "# evalutaing the model using metrics\n",
        "# finding each of the metrics for training set\n",
        "\n",
        "print('The evaluation metric values for training set - Random forest:')\n",
        "print('The accuracy of training set = ',accuracy_score(y_train,y_pred_train1))\n",
        "print('The precision of training set = ',precision_score(y_train,y_pred_train1,average=None))\n",
        "print('The recall of training set = ',recall_score(y_train,y_pred_train1,average=None))\n",
        "print('The f1 score of training set = ',f1_score(y_train,y_pred_train1,average=None))\n",
        "print('The confusion matrix of training set = \\n',confusion_matrix(y_train,y_pred_train1))"
      ],
      "execution_count": 143,
      "outputs": [
        {
          "output_type": "stream",
          "name": "stdout",
          "text": [
            "The evaluation metric values for training set - Random forest:\n",
            "The accuracy of training set =  1.0\n",
            "The precision of training set =  [1. 1. 1. 1.]\n",
            "The recall of training set =  [1. 1. 1. 1.]\n",
            "The f1 score of training set =  [1. 1. 1. 1.]\n",
            "The confusion matrix of training set = \n",
            " [[405   0   0   0]\n",
            " [  0 408   0   0]\n",
            " [  0   0 401   0]\n",
            " [  0   0   0 386]]\n"
          ]
        }
      ]
    },
    {
      "cell_type": "code",
      "metadata": {
        "colab": {
          "base_uri": "https://localhost:8080/"
        },
        "id": "OdIjiYmS966d",
        "outputId": "9f71f142-3ec2-4617-f2cb-e794b8836e83"
      },
      "source": [
        "# finding each of the metrics for test set\n",
        "\n",
        "print('The evaluation metric values for test set - Random forest:')\n",
        "print('The accuracy of test set = ',accuracy_score(y_test,y_pred_test1))\n",
        "print('The precision of test set = ',precision_score(y_test,y_pred_test1,average=None))\n",
        "print('The recall of test set = ',recall_score(y_test,y_pred_test1,average=None))\n",
        "print('The f1 score of test set = ',f1_score(y_test,y_pred_test1,average=None))\n",
        "print('The confusion matrix of test set = \\n',confusion_matrix(y_test,y_pred_test1))"
      ],
      "execution_count": 144,
      "outputs": [
        {
          "output_type": "stream",
          "name": "stdout",
          "text": [
            "The evaluation metric values for test set - Random forest:\n",
            "The accuracy of test set =  0.89\n",
            "The precision of test set =  [0.91262136 0.78640777 0.85714286 1.        ]\n",
            "The recall of test set =  [0.98947368 0.88043478 0.78787879 0.90350877]\n",
            "The f1 score of test set =  [0.94949495 0.83076923 0.82105263 0.94930876]\n",
            "The confusion matrix of test set = \n",
            " [[ 94   1   0   0]\n",
            " [  9  81   2   0]\n",
            " [  0  21  78   0]\n",
            " [  0   0  11 103]]\n"
          ]
        }
      ]
    },
    {
      "cell_type": "code",
      "metadata": {
        "colab": {
          "base_uri": "https://localhost:8080/"
        },
        "id": "KGh72zF5-wsW",
        "outputId": "47dfed25-d585-43c7-ff92-f6f2c100faa9"
      },
      "source": [
        "# checking classification report for test set\n",
        "\n",
        "print(classification_report(y_test,y_pred_test1))"
      ],
      "execution_count": 145,
      "outputs": [
        {
          "output_type": "stream",
          "name": "stdout",
          "text": [
            "              precision    recall  f1-score   support\n",
            "\n",
            "           0       0.91      0.99      0.95        95\n",
            "           1       0.79      0.88      0.83        92\n",
            "           2       0.86      0.79      0.82        99\n",
            "           3       1.00      0.90      0.95       114\n",
            "\n",
            "    accuracy                           0.89       400\n",
            "   macro avg       0.89      0.89      0.89       400\n",
            "weighted avg       0.89      0.89      0.89       400\n",
            "\n"
          ]
        }
      ]
    },
    {
      "cell_type": "markdown",
      "metadata": {
        "id": "eFAIalXrAhXg"
      },
      "source": [
        "* **Accuracy score for train set is 1.0 and acuuracy score for test set is 0.89. So, this means there is overfitting in our model.**"
      ]
    },
    {
      "cell_type": "markdown",
      "metadata": {
        "id": "ODoVDGQABfIw"
      },
      "source": [
        "**Let's store metric values of train and test set for later comparisons.**"
      ]
    },
    {
      "cell_type": "code",
      "metadata": {
        "id": "WUNPaIS2BevS"
      },
      "source": [
        "# storing metric values in train df for later comparisons\n",
        "\n",
        "dict1={'Model':'Random Forest - Before hyperparameter tuning',\n",
        "       'Accuracy':round(accuracy_score(y_train,y_pred_train1),2),\n",
        "       'Precision':[list(np.around(precision_score(y_train,y_pred_train1,average=None),decimals=2))],\n",
        "       'Recall':[list(np.around(recall_score(y_train,y_pred_train1,average=None),decimals=2))],\n",
        "       'F1_score':[list(np.around(f1_score(y_train,y_pred_train1,average=None),decimals=2))],\n",
        "       'Comments':'Possible overfitting'}\n",
        "training_df=pd.DataFrame(dict1,index=[0])"
      ],
      "execution_count": 146,
      "outputs": []
    },
    {
      "cell_type": "code",
      "metadata": {
        "id": "6JIgk7c-B3-f"
      },
      "source": [
        "# storing metric values in test df for later comparisons\n",
        "\n",
        "dict2={'Model':'Random Forest - Before hyperparameter tuning',\n",
        "       'Accuracy':round(accuracy_score(y_test,y_pred_test1),2),\n",
        "       'Precision':[list(np.around(precision_score(y_test,y_pred_test1,average=None),decimals=2))],\n",
        "       'Recall':[list(np.around(recall_score(y_test,y_pred_test1,average=None),decimals=2))],\n",
        "       'F1_score':[list(np.around(f1_score(y_test,y_pred_test1,average=None),decimals=2))],\n",
        "       'Comments':'Possible overfitting'}\n",
        "test_df=pd.DataFrame(dict2,index=[0])"
      ],
      "execution_count": 147,
      "outputs": []
    },
    {
      "cell_type": "markdown",
      "metadata": {
        "id": "vJwH4vOdBDB_"
      },
      "source": [
        "### **We need to tune hyperparameters to prevent overfitting.**"
      ]
    },
    {
      "cell_type": "markdown",
      "metadata": {
        "id": "VZtzmYboCzNN"
      },
      "source": [
        "**Cross-validation using RandomSearch**"
      ]
    },
    {
      "cell_type": "code",
      "metadata": {
        "id": "whfQXOluDTxe"
      },
      "source": [
        "# Importing RandomSearchCV\n",
        "\n",
        "from sklearn.model_selection import RandomizedSearchCV"
      ],
      "execution_count": 148,
      "outputs": []
    },
    {
      "cell_type": "code",
      "metadata": {
        "id": "PDPhjEof-1ZZ"
      },
      "source": [
        "# Setting the parameters to tune\n",
        "\n",
        "# Number of trees\n",
        "n_estimators = list(np.arange(80,200,20,dtype='int64'))\n",
        "\n",
        "# Maximum depth of trees\n",
        "max_depth = list(np.arange(12,30,2,dtype='int64'))\n",
        "\n",
        "# Minimum number of samples required to split a node\n",
        "min_samples_split = list(np.arange(50,200,10,dtype='int64'))\n",
        "\n",
        "# Minimum number of samples required at each leaf node\n",
        "min_samples_leaf = list(np.arange(40,80,10,dtype='int64'))\n",
        "\n",
        "# Max Features\n",
        "max_features=['auto','log2']\n",
        "\n",
        "# HYperparameter Grid\n",
        "param_dict1 = {'n_estimators' : n_estimators,\n",
        "              'max_depth' : max_depth,\n",
        "              'min_samples_split' : min_samples_split,\n",
        "              'min_samples_leaf' : min_samples_leaf,\n",
        "              'max_features':max_features}"
      ],
      "execution_count": 149,
      "outputs": []
    },
    {
      "cell_type": "code",
      "metadata": {
        "colab": {
          "base_uri": "https://localhost:8080/"
        },
        "id": "GiREBK5CC77g",
        "outputId": "a3c60d43-8b79-406c-8d81-fa249579658b"
      },
      "source": [
        "# Random search\n",
        "\n",
        "rf_random = RandomizedSearchCV(estimator=rf_model,param_distributions = param_dict1,cv = 5,scoring='accuracy',n_jobs=-1,random_state=0)\n",
        "rf_random.fit(X_train,y_train)"
      ],
      "execution_count": 150,
      "outputs": [
        {
          "output_type": "execute_result",
          "data": {
            "text/plain": [
              "RandomizedSearchCV(cv=5, error_score=nan,\n",
              "                   estimator=RandomForestClassifier(bootstrap=True,\n",
              "                                                    ccp_alpha=0.0,\n",
              "                                                    class_weight=None,\n",
              "                                                    criterion='gini',\n",
              "                                                    max_depth=None,\n",
              "                                                    max_features='auto',\n",
              "                                                    max_leaf_nodes=None,\n",
              "                                                    max_samples=None,\n",
              "                                                    min_impurity_decrease=0.0,\n",
              "                                                    min_impurity_split=None,\n",
              "                                                    min_samples_leaf=1,\n",
              "                                                    min_samples_split=2,\n",
              "                                                    min_weight_fraction_leaf=0.0,\n",
              "                                                    n_estimators=100,\n",
              "                                                    n_jobs...\n",
              "                   iid='deprecated', n_iter=10, n_jobs=-1,\n",
              "                   param_distributions={'max_depth': [12, 14, 16, 18, 20, 22,\n",
              "                                                      24, 26, 28],\n",
              "                                        'max_features': ['auto', 'log2'],\n",
              "                                        'min_samples_leaf': [40, 50, 60, 70],\n",
              "                                        'min_samples_split': [50, 60, 70, 80,\n",
              "                                                              90, 100, 110, 120,\n",
              "                                                              130, 140, 150,\n",
              "                                                              160, 170, 180,\n",
              "                                                              190],\n",
              "                                        'n_estimators': [80, 100, 120, 140, 160,\n",
              "                                                         180]},\n",
              "                   pre_dispatch='2*n_jobs', random_state=0, refit=True,\n",
              "                   return_train_score=False, scoring='accuracy', verbose=0)"
            ]
          },
          "metadata": {},
          "execution_count": 150
        }
      ]
    },
    {
      "cell_type": "code",
      "metadata": {
        "colab": {
          "base_uri": "https://localhost:8080/"
        },
        "id": "KFvhgjbzDMi5",
        "outputId": "55290c41-956d-4d1d-d220-4181228998fe"
      },
      "source": [
        "# Checking the best estimator\n",
        "\n",
        "rf_random.best_estimator_"
      ],
      "execution_count": 151,
      "outputs": [
        {
          "output_type": "execute_result",
          "data": {
            "text/plain": [
              "RandomForestClassifier(bootstrap=True, ccp_alpha=0.0, class_weight=None,\n",
              "                       criterion='gini', max_depth=24, max_features='auto',\n",
              "                       max_leaf_nodes=None, max_samples=None,\n",
              "                       min_impurity_decrease=0.0, min_impurity_split=None,\n",
              "                       min_samples_leaf=40, min_samples_split=130,\n",
              "                       min_weight_fraction_leaf=0.0, n_estimators=180,\n",
              "                       n_jobs=None, oob_score=False, random_state=0, verbose=0,\n",
              "                       warm_start=False)"
            ]
          },
          "metadata": {},
          "execution_count": 151
        }
      ]
    },
    {
      "cell_type": "code",
      "metadata": {
        "colab": {
          "base_uri": "https://localhost:8080/"
        },
        "id": "Sd5IvbcsERBC",
        "outputId": "57ad6297-dbbf-4c20-c54c-b8db3a0376d4"
      },
      "source": [
        "# checking the best parameters\n",
        "\n",
        "rf_random.best_params_"
      ],
      "execution_count": 152,
      "outputs": [
        {
          "output_type": "execute_result",
          "data": {
            "text/plain": [
              "{'max_depth': 24,\n",
              " 'max_features': 'auto',\n",
              " 'min_samples_leaf': 40,\n",
              " 'min_samples_split': 130,\n",
              " 'n_estimators': 180}"
            ]
          },
          "metadata": {},
          "execution_count": 152
        }
      ]
    },
    {
      "cell_type": "code",
      "metadata": {
        "id": "6hoEPTg8EXs9"
      },
      "source": [
        "# storing the best estimator in a variable\n",
        "\n",
        "rf_optimal_model1=rf_random.best_estimator_"
      ],
      "execution_count": 153,
      "outputs": []
    },
    {
      "cell_type": "code",
      "metadata": {
        "id": "dK-9HAsHEmbV"
      },
      "source": [
        "# predicting on both train and test\n",
        "\n",
        "y_pred_train2=rf_optimal_model1.predict(X_train)\n",
        "y_pred_test2=rf_optimal_model1.predict(X_test)"
      ],
      "execution_count": 154,
      "outputs": []
    },
    {
      "cell_type": "code",
      "metadata": {
        "colab": {
          "base_uri": "https://localhost:8080/"
        },
        "id": "bda6YTOnEsGG",
        "outputId": "9bdde6ab-0f16-4367-b5de-c11fc80ff879"
      },
      "source": [
        "# evalutaing the model using metrics\n",
        "# finding each of the metrics for training set\n",
        "\n",
        "print('The evaluation metric values for training set - Random forest:')\n",
        "print('The accuracy of training set = ',accuracy_score(y_train,y_pred_train2))\n",
        "print('The precision of training set = ',precision_score(y_train,y_pred_train2,average=None))\n",
        "print('The recall of training set = ',recall_score(y_train,y_pred_train2,average=None))\n",
        "print('The f1 score of training set = ',f1_score(y_train,y_pred_train2,average=None))\n",
        "print('The confusion matrix of training set = \\n',confusion_matrix(y_train,y_pred_train2))"
      ],
      "execution_count": 155,
      "outputs": [
        {
          "output_type": "stream",
          "name": "stdout",
          "text": [
            "The evaluation metric values for training set - Random forest:\n",
            "The accuracy of training set =  0.859375\n",
            "The precision of training set =  [0.88340807 0.77641278 0.83473389 0.94102564]\n",
            "The recall of training set =  [0.97283951 0.7745098  0.74314214 0.9507772 ]\n",
            "The f1 score of training set =  [0.92596945 0.77546012 0.78627968 0.94587629]\n",
            "The confusion matrix of training set = \n",
            " [[394  11   0   0]\n",
            " [ 52 316  40   0]\n",
            " [  0  80 298  23]\n",
            " [  0   0  19 367]]\n"
          ]
        }
      ]
    },
    {
      "cell_type": "code",
      "metadata": {
        "colab": {
          "base_uri": "https://localhost:8080/"
        },
        "id": "HNyBhwEcFH6C",
        "outputId": "29be293e-f978-44e6-b75e-0b8789cc6176"
      },
      "source": [
        "# finding each of the metrics for test set\n",
        "\n",
        "print('The evaluation metric values for test set - Random forest:')\n",
        "print('The accuracy of test set = ',accuracy_score(y_test,y_pred_test2))\n",
        "print('The precision of test set = ',precision_score(y_test,y_pred_test2,average=None))\n",
        "print('The recall of test set = ',recall_score(y_test,y_pred_test2,average=None))\n",
        "print('The f1 score of test set = ',f1_score(y_test,y_pred_test2,average=None))\n",
        "print('The confusion matrix of test set = \\n',confusion_matrix(y_test,y_pred_test2))"
      ],
      "execution_count": 156,
      "outputs": [
        {
          "output_type": "stream",
          "name": "stdout",
          "text": [
            "The evaluation metric values for test set - Random forest:\n",
            "The accuracy of test set =  0.815\n",
            "The precision of test set =  [0.86238532 0.66981132 0.76623377 0.94444444]\n",
            "The recall of test set =  [0.98947368 0.77173913 0.5959596  0.89473684]\n",
            "The f1 score of test set =  [0.92156863 0.71717172 0.67045455 0.91891892]\n",
            "The confusion matrix of test set = \n",
            " [[ 94   1   0   0]\n",
            " [ 15  71   6   0]\n",
            " [  0  34  59   6]\n",
            " [  0   0  12 102]]\n"
          ]
        }
      ]
    },
    {
      "cell_type": "code",
      "metadata": {
        "colab": {
          "base_uri": "https://localhost:8080/"
        },
        "id": "aWt_zXnxFLRm",
        "outputId": "5109d0fc-620d-49c9-ecef-6820554ba3d5"
      },
      "source": [
        "# checking classification report for test set\n",
        "\n",
        "print(classification_report(y_test,y_pred_test2))"
      ],
      "execution_count": 157,
      "outputs": [
        {
          "output_type": "stream",
          "name": "stdout",
          "text": [
            "              precision    recall  f1-score   support\n",
            "\n",
            "           0       0.86      0.99      0.92        95\n",
            "           1       0.67      0.77      0.72        92\n",
            "           2       0.77      0.60      0.67        99\n",
            "           3       0.94      0.89      0.92       114\n",
            "\n",
            "    accuracy                           0.81       400\n",
            "   macro avg       0.81      0.81      0.81       400\n",
            "weighted avg       0.82      0.81      0.81       400\n",
            "\n"
          ]
        }
      ]
    },
    {
      "cell_type": "markdown",
      "metadata": {
        "id": "dKAByJOPHQFf"
      },
      "source": [
        "**After hyperparameter tuning:**\n",
        "\n",
        "* **Accuracy score for train set is 0.86 and acuuracy score for test set is 0.81.**"
      ]
    },
    {
      "cell_type": "markdown",
      "metadata": {
        "id": "mGFrKIUpHzDA"
      },
      "source": [
        "**Let's store metric values of train and test set for later comparisons.**"
      ]
    },
    {
      "cell_type": "code",
      "metadata": {
        "id": "RotMD2X4FWH7"
      },
      "source": [
        "# storing metric values in train df for later comparisons\n",
        "\n",
        "dict1={'Model':'Random Forest - After hyperparameter tuning',\n",
        "       'Accuracy':round(accuracy_score(y_train,y_pred_train2),2),\n",
        "       'Precision':[list(np.around(precision_score(y_train,y_pred_train2,average=None),decimals=2))],\n",
        "       'Recall':[list(np.around(recall_score(y_train,y_pred_train2,average=None),decimals=2))],\n",
        "       'F1_score':[list(np.around(f1_score(y_train,y_pred_train2,average=None),decimals=2))],\n",
        "       'Comments':'Reduced overfitting'}\n",
        "training_df=training_df.append(dict1,ignore_index=True)"
      ],
      "execution_count": 158,
      "outputs": []
    },
    {
      "cell_type": "code",
      "metadata": {
        "id": "e-zW2jkfH2wY"
      },
      "source": [
        "# storing metric values in train df for later comparisons\n",
        "\n",
        "dict2={'Model':'Random Forest - After hyperparameter tuning',\n",
        "       'Accuracy':round(accuracy_score(y_test,y_pred_test2),2),\n",
        "       'Precision':[list(np.around(precision_score(y_test,y_pred_test2,average=None),decimals=2))],\n",
        "       'Recall':[list(np.around(recall_score(y_test,y_pred_test2,average=None),decimals=2))],\n",
        "       'F1_score':[list(np.around(f1_score(y_test,y_pred_test2,average=None),decimals=2))],\n",
        "       'Comments':'Reduced overfitting'}\n",
        "test_df=test_df.append(dict2,ignore_index=True)"
      ],
      "execution_count": 159,
      "outputs": []
    },
    {
      "cell_type": "markdown",
      "metadata": {
        "id": "r0_B65I0c_rs"
      },
      "source": [
        "###**Feature importance score w.r.t. RF model**"
      ]
    },
    {
      "cell_type": "code",
      "metadata": {
        "id": "2zceyVPTH5S8",
        "colab": {
          "base_uri": "https://localhost:8080/",
          "height": 466
        },
        "outputId": "ca17a9ef-8584-4aef-f897-9c9207036ec7"
      },
      "source": [
        "# Barplot showing important features w.r.t. RF model\n",
        "\n",
        "importances = pd.DataFrame({'Features': X.columns, \n",
        "                                'Importances': rf_optimal_model1.feature_importances_})\n",
        "    \n",
        "importances.sort_values(by=['Importances'], axis='index', ascending=False, inplace=True)\n",
        "fig = plt.figure(figsize=(14, 6))\n",
        "sns.barplot(x='Features', y='Importances', data=importances)\n",
        "plt.xticks(rotation='vertical')\n",
        "plt.title('Feature importance score w.r.t. RFClassifier model')\n",
        "plt.show()"
      ],
      "execution_count": 160,
      "outputs": [
        {
          "output_type": "display_data",
          "data": {
            "image/png": "[encoded data removed]",
            "text/plain": [
              "<Figure size 1008x432 with 1 Axes>"
            ]
          },
          "metadata": {
            "needs_background": "light"
          }
        }
      ]
    },
    {
      "cell_type": "markdown",
      "metadata": {
        "id": "NB6y6E0T2ehh"
      },
      "source": [
        "* **Ram is most important feature in Random Forest Classifier model.**\n",
        "* **After ram, battery_power, px_area, mobile_wt, int_memory are the most important features as compared to other features.**"
      ]
    },
    {
      "cell_type": "markdown",
      "metadata": {
        "id": "25rfyxFLs0ZY"
      },
      "source": [
        "## **XGBoost Classifier**"
      ]
    },
    {
      "cell_type": "code",
      "metadata": {
        "id": "lmUdA6oqrQD6"
      },
      "source": [
        "# Importing library\n",
        "\n",
        "from xgboost import XGBClassifier"
      ],
      "execution_count": 161,
      "outputs": []
    },
    {
      "cell_type": "markdown",
      "metadata": {
        "id": "RzTbP7gfvkKQ"
      },
      "source": [
        "**Initial fitting**"
      ]
    },
    {
      "cell_type": "code",
      "metadata": {
        "colab": {
          "base_uri": "https://localhost:8080/"
        },
        "id": "e4Biklg9vXZz",
        "outputId": "5d1d2d7b-a45e-4095-9cd9-e32f13d3a1f8"
      },
      "source": [
        "# Implementing XGBoost classifier\n",
        "\n",
        "xgb_model=XGBClassifier(random_state=0,n_jobs=-1)\n",
        "xgb_model.fit(X_train,y_train)"
      ],
      "execution_count": 162,
      "outputs": [
        {
          "output_type": "execute_result",
          "data": {
            "text/plain": [
              "XGBClassifier(base_score=0.5, booster='gbtree', colsample_bylevel=1,\n",
              "              colsample_bynode=1, colsample_bytree=1, gamma=0,\n",
              "              learning_rate=0.1, max_delta_step=0, max_depth=3,\n",
              "              min_child_weight=1, missing=None, n_estimators=100, n_jobs=-1,\n",
              "              nthread=None, objective='multi:softprob', random_state=0,\n",
              "              reg_alpha=0, reg_lambda=1, scale_pos_weight=1, seed=None,\n",
              "              silent=None, subsample=1, verbosity=1)"
            ]
          },
          "metadata": {},
          "execution_count": 162
        }
      ]
    },
    {
      "cell_type": "code",
      "metadata": {
        "id": "TC_KDymgvouq"
      },
      "source": [
        "# Predicting for both training and test set\n",
        "\n",
        "y_pred_train3=xgb_model.predict(X_train)\n",
        "y_pred_test3=xgb_model.predict(X_test)"
      ],
      "execution_count": 163,
      "outputs": []
    },
    {
      "cell_type": "code",
      "metadata": {
        "colab": {
          "base_uri": "https://localhost:8080/"
        },
        "id": "ZyG0deJxvyN1",
        "outputId": "1103f9ab-8e59-4bcd-d0b8-b886ef97de0f"
      },
      "source": [
        "# evalutaing the model using metrics\n",
        "# finding each of the metrics for training set\n",
        "\n",
        "print('The evaluation metric values for training set - XGBoost:')\n",
        "print('The accuracy of training set = ',accuracy_score(y_train,y_pred_train3))\n",
        "print('The precision of training set = ',precision_score(y_train,y_pred_train3,average=None))\n",
        "print('The recall of training set = ',recall_score(y_train,y_pred_train3,average=None))\n",
        "print('The f1 score of training set = ',f1_score(y_train,y_pred_train3,average=None))\n",
        "print('The confusion matrix of training set = \\n',confusion_matrix(y_train,y_pred_train3))"
      ],
      "execution_count": 164,
      "outputs": [
        {
          "output_type": "stream",
          "name": "stdout",
          "text": [
            "The evaluation metric values for training set - XGBoost:\n",
            "The accuracy of training set =  0.97875\n",
            "The precision of training set =  [0.995      0.95923261 0.97236181 0.98961039]\n",
            "The recall of training set =  [0.98271605 0.98039216 0.96508728 0.98704663]\n",
            "The f1 score of training set =  [0.98881988 0.96969697 0.96871089 0.98832685]\n",
            "The confusion matrix of training set = \n",
            " [[398   7   0   0]\n",
            " [  2 400   6   0]\n",
            " [  0  10 387   4]\n",
            " [  0   0   5 381]]\n"
          ]
        }
      ]
    },
    {
      "cell_type": "code",
      "metadata": {
        "colab": {
          "base_uri": "https://localhost:8080/"
        },
        "id": "BnQRh-5kv5jV",
        "outputId": "cce324d6-e289-4c49-c2a9-6d9765ac24d5"
      },
      "source": [
        "# finding each of the metrics for test set\n",
        "\n",
        "print('The evaluation metric values for test set - XGBoost:')\n",
        "print('The accuracy of test set = ',accuracy_score(y_test,y_pred_test3))\n",
        "print('The precision of test set = ',precision_score(y_test,y_pred_test3,average=None))\n",
        "print('The recall of test set = ',recall_score(y_test,y_pred_test3,average=None))\n",
        "print('The f1 score of test set = ',f1_score(y_test,y_pred_test3,average=None))\n",
        "print('The confusion matrix of test set = \\n',confusion_matrix(y_test,y_pred_test3))"
      ],
      "execution_count": 165,
      "outputs": [
        {
          "output_type": "stream",
          "name": "stdout",
          "text": [
            "The evaluation metric values for test set - XGBoost:\n",
            "The accuracy of test set =  0.8725\n",
            "The precision of test set =  [0.94897959 0.78703704 0.77777778 0.98947368]\n",
            "The recall of test set =  [0.97894737 0.92391304 0.77777778 0.8245614 ]\n",
            "The f1 score of test set =  [0.96373057 0.85       0.77777778 0.89952153]\n",
            "The confusion matrix of test set = \n",
            " [[93  2  0  0]\n",
            " [ 5 85  2  0]\n",
            " [ 0 21 77  1]\n",
            " [ 0  0 20 94]]\n"
          ]
        }
      ]
    },
    {
      "cell_type": "code",
      "metadata": {
        "colab": {
          "base_uri": "https://localhost:8080/"
        },
        "id": "vl-amFd4wC67",
        "outputId": "0644ef7d-6167-4968-f2d6-0515e769089a"
      },
      "source": [
        "# checking classification report for test set\n",
        "\n",
        "print(classification_report(y_test,y_pred_test3))"
      ],
      "execution_count": 166,
      "outputs": [
        {
          "output_type": "stream",
          "name": "stdout",
          "text": [
            "              precision    recall  f1-score   support\n",
            "\n",
            "           0       0.95      0.98      0.96        95\n",
            "           1       0.79      0.92      0.85        92\n",
            "           2       0.78      0.78      0.78        99\n",
            "           3       0.99      0.82      0.90       114\n",
            "\n",
            "    accuracy                           0.87       400\n",
            "   macro avg       0.88      0.88      0.87       400\n",
            "weighted avg       0.88      0.87      0.87       400\n",
            "\n"
          ]
        }
      ]
    },
    {
      "cell_type": "markdown",
      "metadata": {
        "id": "Ogc_gVVawWa6"
      },
      "source": [
        "* **Accuracy score for train set is 0.97 and acuuracy score for test set is 0.87. So, this means there is overfitting in our model.**"
      ]
    },
    {
      "cell_type": "markdown",
      "metadata": {
        "id": "l3iBf6VG0zxE"
      },
      "source": [
        "**Let's store metric values of train and test set for later comparisons.**"
      ]
    },
    {
      "cell_type": "code",
      "metadata": {
        "id": "nM3l_lNbwIBF"
      },
      "source": [
        "# storing metric values in train df for later comparisons\n",
        "\n",
        "dict1={'Model':'XGBoost - Before hyperparameter tuning',\n",
        "       'Accuracy':round(accuracy_score(y_train,y_pred_train3),2),\n",
        "       'Precision':[list(np.around(precision_score(y_train,y_pred_train3,average=None),decimals=2))],\n",
        "       'Recall':[list(np.around(recall_score(y_train,y_pred_train3,average=None),decimals=2))],\n",
        "       'F1_score':[list(np.around(f1_score(y_train,y_pred_train3,average=None),decimals=2))],\n",
        "       'Comments':'Possible overfitting'}\n",
        "training_df=training_df.append(dict1,ignore_index=True)"
      ],
      "execution_count": 167,
      "outputs": []
    },
    {
      "cell_type": "code",
      "metadata": {
        "id": "9ehQ8raV1WwZ"
      },
      "source": [
        "# storing metric values in test df for later comparisons\n",
        "\n",
        "dict2={'Model':'XGBoost - Before hyperparameter tuning',\n",
        "       'Accuracy':round(accuracy_score(y_test,y_pred_test3),2),\n",
        "       'Precision':[list(np.around(precision_score(y_test,y_pred_test3,average=None),decimals=2))],\n",
        "       'Recall':[list(np.around(recall_score(y_test,y_pred_test3,average=None),decimals=2))],\n",
        "       'F1_score':[list(np.around(f1_score(y_test,y_pred_test3,average=None),decimals=2))],\n",
        "       'Comments':'Possible overfitting'}\n",
        "test_df=test_df.append(dict2,ignore_index=True)"
      ],
      "execution_count": 168,
      "outputs": []
    },
    {
      "cell_type": "markdown",
      "metadata": {
        "id": "PnHJX0lk1iux"
      },
      "source": [
        "### **We need to tune hyperparameters to prevent overfitting.**"
      ]
    },
    {
      "cell_type": "markdown",
      "metadata": {
        "id": "qvV4E13a1mu2"
      },
      "source": [
        "**Cross-validation using RandomSearch**"
      ]
    },
    {
      "cell_type": "code",
      "metadata": {
        "id": "gLqnON7l1db3"
      },
      "source": [
        "# Setting the parameters to tune\n",
        "\n",
        "# Number of trees\n",
        "n_estimators = list(np.arange(5,15,2,dtype='int64'))\n",
        "\n",
        "# Maximum depth of trees\n",
        "max_depth = list(np.arange(10,20,1,dtype='int64'))\n",
        "\n",
        "# learning rate\n",
        "learning_rate=list(np.arange(0.05,0.15,0.01))\n",
        "\n",
        "# min childs weight\n",
        "min_child_weight=list(np.linspace(10,20,num=1,dtype='int64'))\n",
        "\n",
        "# gamma\n",
        "gamma=list(np.linspace(0,2,num=20,dtype='int64'))\n",
        "\n",
        "# subsamples\n",
        "subsample=[0.3,0.5,0.6] \n",
        "\n",
        "# HYperparameter Grid\n",
        "param_dict1 = {'n_estimators' : n_estimators,\n",
        "              'max_depth' : max_depth,\n",
        "               'min_child_weight':min_child_weight,\n",
        "               'gamma':gamma,\n",
        "               'subsample':subsample,\n",
        "               'learning_rate':learning_rate}"
      ],
      "execution_count": 169,
      "outputs": []
    },
    {
      "cell_type": "code",
      "metadata": {
        "colab": {
          "base_uri": "https://localhost:8080/"
        },
        "id": "zHRtsp-G1rwz",
        "outputId": "464ce95e-7ecd-4672-f88c-59f2289dc1d5"
      },
      "source": [
        "# Random search\n",
        "\n",
        "xgb_random = RandomizedSearchCV(estimator=xgb_model,param_distributions = param_dict1,cv = 5,scoring='accuracy',n_jobs=-1,random_state=0)\n",
        "xgb_random.fit(X_train,y_train)"
      ],
      "execution_count": 170,
      "outputs": [
        {
          "output_type": "execute_result",
          "data": {
            "text/plain": [
              "RandomizedSearchCV(cv=5, error_score=nan,\n",
              "                   estimator=XGBClassifier(base_score=0.5, booster='gbtree',\n",
              "                                           colsample_bylevel=1,\n",
              "                                           colsample_bynode=1,\n",
              "                                           colsample_bytree=1, gamma=0,\n",
              "                                           learning_rate=0.1, max_delta_step=0,\n",
              "                                           max_depth=3, min_child_weight=1,\n",
              "                                           missing=None, n_estimators=100,\n",
              "                                           n_jobs=-1, nthread=None,\n",
              "                                           objective='multi:softprob',\n",
              "                                           random_state=0, reg_alpha=0,\n",
              "                                           reg_lambda=1, sc...\n",
              "                                        'learning_rate': [0.05,\n",
              "                                                          0.060000000000000005,\n",
              "                                                          0.07,\n",
              "                                                          0.08000000000000002,\n",
              "                                                          0.09000000000000001,\n",
              "                                                          0.1,\n",
              "                                                          0.11000000000000001,\n",
              "                                                          0.12000000000000001,\n",
              "                                                          0.13, 0.14],\n",
              "                                        'max_depth': [10, 11, 12, 13, 14, 15,\n",
              "                                                      16, 17, 18, 19],\n",
              "                                        'min_child_weight': [10],\n",
              "                                        'n_estimators': [5, 7, 9, 11, 13],\n",
              "                                        'subsample': [0.3, 0.5, 0.6]},\n",
              "                   pre_dispatch='2*n_jobs', random_state=0, refit=True,\n",
              "                   return_train_score=False, scoring='accuracy', verbose=0)"
            ]
          },
          "metadata": {},
          "execution_count": 170
        }
      ]
    },
    {
      "cell_type": "code",
      "metadata": {
        "colab": {
          "base_uri": "https://localhost:8080/"
        },
        "id": "PCoyUAiQ1vk3",
        "outputId": "c1834da4-f01a-4bf8-969c-ca7bd169d364"
      },
      "source": [
        "# checking th ebest estimator\n",
        "\n",
        "xgb_random.best_estimator_"
      ],
      "execution_count": 171,
      "outputs": [
        {
          "output_type": "execute_result",
          "data": {
            "text/plain": [
              "XGBClassifier(base_score=0.5, booster='gbtree', colsample_bylevel=1,\n",
              "              colsample_bynode=1, colsample_bytree=1, gamma=1,\n",
              "              learning_rate=0.13, max_delta_step=0, max_depth=13,\n",
              "              min_child_weight=10, missing=None, n_estimators=13, n_jobs=-1,\n",
              "              nthread=None, objective='multi:softprob', random_state=0,\n",
              "              reg_alpha=0, reg_lambda=1, scale_pos_weight=1, seed=None,\n",
              "              silent=None, subsample=0.5, verbosity=1)"
            ]
          },
          "metadata": {},
          "execution_count": 171
        }
      ]
    },
    {
      "cell_type": "code",
      "metadata": {
        "colab": {
          "base_uri": "https://localhost:8080/"
        },
        "id": "j8ffV4eT3EPO",
        "outputId": "38f597fb-8035-4ac2-d1ce-7b5dfef2c7d4"
      },
      "source": [
        "# checking the best parameters\n",
        "\n",
        "xgb_random.best_params_"
      ],
      "execution_count": 172,
      "outputs": [
        {
          "output_type": "execute_result",
          "data": {
            "text/plain": [
              "{'gamma': 1,\n",
              " 'learning_rate': 0.13,\n",
              " 'max_depth': 13,\n",
              " 'min_child_weight': 10,\n",
              " 'n_estimators': 13,\n",
              " 'subsample': 0.5}"
            ]
          },
          "metadata": {},
          "execution_count": 172
        }
      ]
    },
    {
      "cell_type": "code",
      "metadata": {
        "id": "A4XdcFGU3H-Y"
      },
      "source": [
        "# storing the best estimator in a variable\n",
        "\n",
        "xgb_optimal_model1=xgb_random.best_estimator_"
      ],
      "execution_count": 173,
      "outputs": []
    },
    {
      "cell_type": "code",
      "metadata": {
        "id": "oqz93Q733LWo"
      },
      "source": [
        "# predicting on both train and test\n",
        "\n",
        "y_pred_train4=xgb_optimal_model1.predict(X_train)\n",
        "y_pred_test4=xgb_optimal_model1.predict(X_test)"
      ],
      "execution_count": 174,
      "outputs": []
    },
    {
      "cell_type": "code",
      "metadata": {
        "colab": {
          "base_uri": "https://localhost:8080/"
        },
        "id": "0s9iSKvD3Pdx",
        "outputId": "b5ee02f9-5668-4d1d-981a-c2d557f4dcc0"
      },
      "source": [
        "# evalutaing the model using metrics\n",
        "# finding each of the metrics for training set\n",
        "\n",
        "print('The evaluation metric values for training set - XGBoost:')\n",
        "print('The accuracy of training set = ',round(accuracy_score(y_train,y_pred_train4),2))\n",
        "print('The precision of training set = ',precision_score(y_train,y_pred_train4,average=None))\n",
        "print('The recall of training set = ',recall_score(y_train,y_pred_train4,average=None))\n",
        "print('The f1 score of training set = ',f1_score(y_train,y_pred_train4,average=None))\n",
        "print('The confusion matrix of training set = \\n',confusion_matrix(y_train,y_pred_train4))"
      ],
      "execution_count": 175,
      "outputs": [
        {
          "output_type": "stream",
          "name": "stdout",
          "text": [
            "The evaluation metric values for training set - XGBoost:\n",
            "The accuracy of training set =  0.89\n",
            "The precision of training set =  [0.9192399  0.86040609 0.83497537 0.93403694]\n",
            "The recall of training set =  [0.95555556 0.83088235 0.84538653 0.91709845]\n",
            "The f1 score of training set =  [0.937046   0.84538653 0.8401487  0.9254902 ]\n",
            "The confusion matrix of training set = \n",
            " [[387  18   0   0]\n",
            " [ 34 339  35   0]\n",
            " [  0  37 339  25]\n",
            " [  0   0  32 354]]\n"
          ]
        }
      ]
    },
    {
      "cell_type": "code",
      "metadata": {
        "colab": {
          "base_uri": "https://localhost:8080/"
        },
        "id": "m6nN9BVk3avv",
        "outputId": "5d6cc361-e5b9-4031-9c30-17d20a6f2261"
      },
      "source": [
        "# finding each of the metrics for test set\n",
        "\n",
        "print('The evaluation metric values for test set - XGBoost:')\n",
        "print('The accuracy of test set = ',round(accuracy_score(y_test,y_pred_test4),2))\n",
        "print('The precision of test set = ',precision_score(y_test,y_pred_test4,average=None))\n",
        "print('The recall of test set = ',recall_score(y_test,y_pred_test4,average=None))\n",
        "print('The f1 score of test set = ',f1_score(y_test,y_pred_test4,average=None))\n",
        "print('The confusion matrix of test set = \\n',confusion_matrix(y_test,y_pred_test4))"
      ],
      "execution_count": 176,
      "outputs": [
        {
          "output_type": "stream",
          "name": "stdout",
          "text": [
            "The evaluation metric values for test set - XGBoost:\n",
            "The accuracy of test set =  0.85\n",
            "The precision of test set =  [0.89320388 0.78       0.77659574 0.93203883]\n",
            "The recall of test set =  [0.96842105 0.84782609 0.73737374 0.84210526]\n",
            "The f1 score of test set =  [0.92929293 0.8125     0.75647668 0.88479263]\n",
            "The confusion matrix of test set = \n",
            " [[92  3  0  0]\n",
            " [11 78  3  0]\n",
            " [ 0 19 73  7]\n",
            " [ 0  0 18 96]]\n"
          ]
        }
      ]
    },
    {
      "cell_type": "code",
      "metadata": {
        "colab": {
          "base_uri": "https://localhost:8080/"
        },
        "id": "tZW_f-Jp4xHy",
        "outputId": "01f03c44-0d8b-4963-c5a8-3d363716ee9b"
      },
      "source": [
        "# checking classification report for test set\n",
        "\n",
        "print(classification_report(y_test,y_pred_test4))"
      ],
      "execution_count": 177,
      "outputs": [
        {
          "output_type": "stream",
          "name": "stdout",
          "text": [
            "              precision    recall  f1-score   support\n",
            "\n",
            "           0       0.89      0.97      0.93        95\n",
            "           1       0.78      0.85      0.81        92\n",
            "           2       0.78      0.74      0.76        99\n",
            "           3       0.93      0.84      0.88       114\n",
            "\n",
            "    accuracy                           0.85       400\n",
            "   macro avg       0.85      0.85      0.85       400\n",
            "weighted avg       0.85      0.85      0.85       400\n",
            "\n"
          ]
        }
      ]
    },
    {
      "cell_type": "markdown",
      "metadata": {
        "id": "XNOK0QDm35-S"
      },
      "source": [
        "**After hyperparameter tuning:**\n",
        "\n",
        "* **Accuracy score for train set is 0.89 and acuuracy score for test set is 0.85.**"
      ]
    },
    {
      "cell_type": "markdown",
      "metadata": {
        "id": "FLFZy3a34CF5"
      },
      "source": [
        "**Great! This can be considered as best model.**"
      ]
    },
    {
      "cell_type": "markdown",
      "metadata": {
        "id": "-VioUwvp4Zi0"
      },
      "source": [
        "**Let's store metric values of train and test set for later comparisons.**"
      ]
    },
    {
      "cell_type": "code",
      "metadata": {
        "id": "RRcXBgYj4ak_"
      },
      "source": [
        "# storing metric values in train df for later comparisons\n",
        "\n",
        "dict1={'Model':'XGBoost - After hyperparameter tuning',\n",
        "       'Accuracy':round(accuracy_score(y_train,y_pred_train4),2),\n",
        "       'Precision':[list(np.around(precision_score(y_train,y_pred_train4,average=None),decimals=2))],\n",
        "       'Recall':[list(np.around(recall_score(y_train,y_pred_train4,average=None),decimals=2))],\n",
        "       'F1_score':[list(np.around(f1_score(y_train,y_pred_train4,average=None),decimals=2))],\n",
        "       'Comments':'Best of all model'}\n",
        "training_df=training_df.append(dict1,ignore_index=True)"
      ],
      "execution_count": 178,
      "outputs": []
    },
    {
      "cell_type": "code",
      "metadata": {
        "id": "WLEQ9o4v44RF"
      },
      "source": [
        "# storing metric values in test df for later comparisons\n",
        "\n",
        "dict2={'Model':'XGBoost - After hyperparameter tuning',\n",
        "       'Accuracy':round(accuracy_score(y_test,y_pred_test4),2),\n",
        "       'Precision':[list(np.around(precision_score(y_test,y_pred_test4,average=None),decimals=2))],\n",
        "       'Recall':[list(np.around(recall_score(y_test,y_pred_test4,average=None),decimals=2))],\n",
        "       'F1_score':[list(np.around(f1_score(y_test,y_pred_test4,average=None),decimals=2))],\n",
        "       'Comments':'Best of all model'}\n",
        "test_df=test_df.append(dict2,ignore_index=True)"
      ],
      "execution_count": 179,
      "outputs": []
    },
    {
      "cell_type": "markdown",
      "metadata": {
        "id": "inD6MsyD4NyW"
      },
      "source": [
        "###**Feature importance score w.r.t. XGBoost model**"
      ]
    },
    {
      "cell_type": "code",
      "metadata": {
        "colab": {
          "base_uri": "https://localhost:8080/",
          "height": 466
        },
        "id": "VFmzSSOG3jHQ",
        "outputId": "41b3b3a1-b39d-4f80-e2b3-7cea5fe0fa1f"
      },
      "source": [
        "# Barplot showing important features w.r.t. RF model\n",
        "\n",
        "importances = pd.DataFrame({'Features': X.columns, \n",
        "                                'Importances': xgb_optimal_model1.feature_importances_})\n",
        "    \n",
        "importances.sort_values(by=['Importances'], axis='index', ascending=False, inplace=True)\n",
        "fig = plt.figure(figsize=(14, 6))\n",
        "sns.barplot(x='Features', y='Importances', data=importances)\n",
        "plt.xticks(rotation='vertical')\n",
        "plt.title('Feature importance score w.r.t. XGBoostClassifier model')\n",
        "plt.show()"
      ],
      "execution_count": 180,
      "outputs": [
        {
          "output_type": "display_data",
          "data": {
            "image/png": "[encoded data removed]",
            "text/plain": [
              "<Figure size 1008x432 with 1 Axes>"
            ]
          },
          "metadata": {
            "needs_background": "light"
          }
        }
      ]
    },
    {
      "cell_type": "markdown",
      "metadata": {
        "id": "dq6oagW26EFD"
      },
      "source": [
        "* **Ram is most important feature in XGBoost Classifier model.**\n",
        "* **After ram, battery_power, px_area, four_g, mobile_wt, int_memory are the most important features as compared to other features.**"
      ]
    },
    {
      "cell_type": "markdown",
      "metadata": {
        "id": "W8ZGaUES2r6E"
      },
      "source": [
        "### **Let's check training and test set values.**"
      ]
    },
    {
      "cell_type": "code",
      "metadata": {
        "colab": {
          "base_uri": "https://localhost:8080/",
          "height": 172
        },
        "id": "V7xUE-ONwB_k",
        "outputId": "9ca7aefd-766e-49bd-e824-632b445242f0"
      },
      "source": [
        "# checking the training set values\n",
        "\n",
        "training_df"
      ],
      "execution_count": 181,
      "outputs": [
        {
          "output_type": "execute_result",
          "data": {
            "text/html": [
              "<div>\n",
              "<style scoped>\n",
              "    .dataframe tbody tr th:only-of-type {\n",
              "        vertical-align: middle;\n",
              "    }\n",
              "\n",
              "    .dataframe tbody tr th {\n",
              "        vertical-align: top;\n",
              "    }\n",
              "\n",
              "    .dataframe thead th {\n",
              "        text-align: right;\n",
              "    }\n",
              "</style>\n",
              "<table border=\"1\" class=\"dataframe\">\n",
              "  <thead>\n",
              "    <tr style=\"text-align: right;\">\n",
              "      <th></th>\n",
              "      <th>Model</th>\n",
              "      <th>Accuracy</th>\n",
              "      <th>Precision</th>\n",
              "      <th>Recall</th>\n",
              "      <th>F1_score</th>\n",
              "      <th>Comments</th>\n",
              "    </tr>\n",
              "  </thead>\n",
              "  <tbody>\n",
              "    <tr>\n",
              "      <th>0</th>\n",
              "      <td>Random Forest - Before hyperparameter tuning</td>\n",
              "      <td>1.00</td>\n",
              "      <td>[1.0, 1.0, 1.0, 1.0]</td>\n",
              "      <td>[1.0, 1.0, 1.0, 1.0]</td>\n",
              "      <td>[1.0, 1.0, 1.0, 1.0]</td>\n",
              "      <td>Possible overfitting</td>\n",
              "    </tr>\n",
              "    <tr>\n",
              "      <th>1</th>\n",
              "      <td>Random Forest - After hyperparameter tuning</td>\n",
              "      <td>0.86</td>\n",
              "      <td>[[0.88, 0.78, 0.83, 0.94]]</td>\n",
              "      <td>[[0.97, 0.77, 0.74, 0.95]]</td>\n",
              "      <td>[[0.93, 0.78, 0.79, 0.95]]</td>\n",
              "      <td>Reduced overfitting</td>\n",
              "    </tr>\n",
              "    <tr>\n",
              "      <th>2</th>\n",
              "      <td>XGBoost - Before hyperparameter tuning</td>\n",
              "      <td>0.98</td>\n",
              "      <td>[[1.0, 0.96, 0.97, 0.99]]</td>\n",
              "      <td>[[0.98, 0.98, 0.97, 0.99]]</td>\n",
              "      <td>[[0.99, 0.97, 0.97, 0.99]]</td>\n",
              "      <td>Possible overfitting</td>\n",
              "    </tr>\n",
              "    <tr>\n",
              "      <th>3</th>\n",
              "      <td>XGBoost - After hyperparameter tuning</td>\n",
              "      <td>0.89</td>\n",
              "      <td>[[0.92, 0.86, 0.83, 0.93]]</td>\n",
              "      <td>[[0.96, 0.83, 0.85, 0.92]]</td>\n",
              "      <td>[[0.94, 0.85, 0.84, 0.93]]</td>\n",
              "      <td>Best of all model</td>\n",
              "    </tr>\n",
              "  </tbody>\n",
              "</table>\n",
              "</div>"
            ],
            "text/plain": [
              "                                          Model  ...              Comments\n",
              "0  Random Forest - Before hyperparameter tuning  ...  Possible overfitting\n",
              "1   Random Forest - After hyperparameter tuning  ...   Reduced overfitting\n",
              "2        XGBoost - Before hyperparameter tuning  ...  Possible overfitting\n",
              "3         XGBoost - After hyperparameter tuning  ...     Best of all model\n",
              "\n",
              "[4 rows x 6 columns]"
            ]
          },
          "metadata": {},
          "execution_count": 181
        }
      ]
    },
    {
      "cell_type": "code",
      "metadata": {
        "colab": {
          "base_uri": "https://localhost:8080/",
          "height": 172
        },
        "id": "quOk5GWZ29ip",
        "outputId": "86a33af2-4ede-4a52-fe13-b445239c3c1b"
      },
      "source": [
        "# checking the test set values\n",
        "\n",
        "test_df"
      ],
      "execution_count": 182,
      "outputs": [
        {
          "output_type": "execute_result",
          "data": {
            "text/html": [
              "<div>\n",
              "<style scoped>\n",
              "    .dataframe tbody tr th:only-of-type {\n",
              "        vertical-align: middle;\n",
              "    }\n",
              "\n",
              "    .dataframe tbody tr th {\n",
              "        vertical-align: top;\n",
              "    }\n",
              "\n",
              "    .dataframe thead th {\n",
              "        text-align: right;\n",
              "    }\n",
              "</style>\n",
              "<table border=\"1\" class=\"dataframe\">\n",
              "  <thead>\n",
              "    <tr style=\"text-align: right;\">\n",
              "      <th></th>\n",
              "      <th>Model</th>\n",
              "      <th>Accuracy</th>\n",
              "      <th>Precision</th>\n",
              "      <th>Recall</th>\n",
              "      <th>F1_score</th>\n",
              "      <th>Comments</th>\n",
              "    </tr>\n",
              "  </thead>\n",
              "  <tbody>\n",
              "    <tr>\n",
              "      <th>0</th>\n",
              "      <td>Random Forest - Before hyperparameter tuning</td>\n",
              "      <td>0.89</td>\n",
              "      <td>[0.91, 0.79, 0.86, 1.0]</td>\n",
              "      <td>[0.99, 0.88, 0.79, 0.9]</td>\n",
              "      <td>[0.95, 0.83, 0.82, 0.95]</td>\n",
              "      <td>Possible overfitting</td>\n",
              "    </tr>\n",
              "    <tr>\n",
              "      <th>1</th>\n",
              "      <td>Random Forest - After hyperparameter tuning</td>\n",
              "      <td>0.82</td>\n",
              "      <td>[[0.86, 0.67, 0.77, 0.94]]</td>\n",
              "      <td>[[0.99, 0.77, 0.6, 0.89]]</td>\n",
              "      <td>[[0.92, 0.72, 0.67, 0.92]]</td>\n",
              "      <td>Reduced overfitting</td>\n",
              "    </tr>\n",
              "    <tr>\n",
              "      <th>2</th>\n",
              "      <td>XGBoost - Before hyperparameter tuning</td>\n",
              "      <td>0.87</td>\n",
              "      <td>[[0.95, 0.79, 0.78, 0.99]]</td>\n",
              "      <td>[[0.98, 0.92, 0.78, 0.82]]</td>\n",
              "      <td>[[0.96, 0.85, 0.78, 0.9]]</td>\n",
              "      <td>Possible overfitting</td>\n",
              "    </tr>\n",
              "    <tr>\n",
              "      <th>3</th>\n",
              "      <td>XGBoost - After hyperparameter tuning</td>\n",
              "      <td>0.85</td>\n",
              "      <td>[[0.89, 0.78, 0.78, 0.93]]</td>\n",
              "      <td>[[0.97, 0.85, 0.74, 0.84]]</td>\n",
              "      <td>[[0.93, 0.81, 0.76, 0.88]]</td>\n",
              "      <td>Best of all model</td>\n",
              "    </tr>\n",
              "  </tbody>\n",
              "</table>\n",
              "</div>"
            ],
            "text/plain": [
              "                                          Model  ...              Comments\n",
              "0  Random Forest - Before hyperparameter tuning  ...  Possible overfitting\n",
              "1   Random Forest - After hyperparameter tuning  ...   Reduced overfitting\n",
              "2        XGBoost - Before hyperparameter tuning  ...  Possible overfitting\n",
              "3         XGBoost - After hyperparameter tuning  ...     Best of all model\n",
              "\n",
              "[4 rows x 6 columns]"
            ]
          },
          "metadata": {},
          "execution_count": 182
        }
      ]
    },
    {
      "cell_type": "markdown",
      "metadata": {
        "id": "h9soQdA_3ySY"
      },
      "source": [
        "# **Conclusion**"
      ]
    },
    {
      "cell_type": "markdown",
      "metadata": {
        "id": "sgbj5e1r4X_p"
      },
      "source": [
        "* **The accuracy of our best model was 0.89 and 0.85 for training and test set respectively.**\n",
        "\n",
        "* **With default hyperparameters, our both models got overfitted.**\n",
        "\n",
        "* **Ram was most important feature in determining the predictions.**\n",
        "\n",
        "* **Also, battery_power, px_height and px_weight were the major contributions in determining the predictions.**\n",
        "\n",
        "* **Higher the values of these features led to higher predicted values.**\n",
        "\n",
        "* **Performance can be improved even further by applying fine tunings so that the models can identify more patterns and become less prone to overfitting.**"
      ]
    },
    {
      "cell_type": "code",
      "metadata": {
        "id": "4ESGcHsW3CGc"
      },
      "source": [
        ""
      ],
      "execution_count": null,
      "outputs": []
    }
  ]
}